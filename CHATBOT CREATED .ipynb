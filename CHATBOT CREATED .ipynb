{
 "cells": [
  {
   "cell_type": "code",
   "execution_count": 1,
   "metadata": {},
   "outputs": [],
   "source": [
    "import json \n",
    "import numpy as np \n",
    "import tensorflow as tf\n",
    "from tensorflow import keras\n",
    "from tensorflow.keras.models import Sequential\n",
    "from tensorflow.keras.layers import Dense, Embedding, GlobalAveragePooling1D\n",
    "from tensorflow.keras.preprocessing.text import Tokenizer\n",
    "from tensorflow.keras.preprocessing.sequence import pad_sequences\n",
    "from sklearn.preprocessing import LabelEncoder"
   ]
  },
  {
   "cell_type": "code",
   "execution_count": 2,
   "metadata": {},
   "outputs": [],
   "source": [
    "with open('chatbot_conversation') as file:\n",
    "    data = json.load(file)\n",
    "    \n",
    "training_sentences = []\n",
    "training_labels = []\n",
    "labels = []\n",
    "responses = []\n",
    "\n",
    "\n",
    "for intent in data['intents']:\n",
    "    for pattern in intent['patterns']:\n",
    "        training_sentences.append(pattern)\n",
    "        training_labels.append(intent['tag'])\n",
    "    responses.append(intent['responses'])\n",
    "    \n",
    "    if intent['tag'] not in labels:\n",
    "        labels.append(intent['tag'])\n",
    "        \n",
    "num_classes = len(labels)"
   ]
  },
  {
   "cell_type": "code",
   "execution_count": 4,
   "metadata": {},
   "outputs": [
    {
     "data": {
      "text/plain": [
       "13"
      ]
     },
     "execution_count": 4,
     "metadata": {},
     "output_type": "execute_result"
    }
   ],
   "source": [
    "num_classes"
   ]
  },
  {
   "cell_type": "code",
   "execution_count": 5,
   "metadata": {},
   "outputs": [
    {
     "data": {
      "text/plain": [
       "['greeting',\n",
       " 'goodbye',\n",
       " 'thanks',\n",
       " 'noanswer',\n",
       " 'options',\n",
       " 'order-status-request',\n",
       " 'order-status',\n",
       " 'cancel-order-request',\n",
       " 'cancel-order',\n",
       " 'no-cancel-order',\n",
       " 'delivery-instructions',\n",
       " 'added-delivery-instructions',\n",
       " 'joke']"
      ]
     },
     "execution_count": 5,
     "metadata": {},
     "output_type": "execute_result"
    }
   ],
   "source": [
    "labels"
   ]
  },
  {
   "cell_type": "code",
   "execution_count": 6,
   "metadata": {},
   "outputs": [],
   "source": [
    "lbl_encoder = LabelEncoder()\n",
    "lbl_encoder.fit(training_labels)\n",
    "training_labels = lbl_encoder.transform(training_labels)"
   ]
  },
  {
   "cell_type": "code",
   "execution_count": 7,
   "metadata": {},
   "outputs": [
    {
     "data": {
      "text/plain": [
       "array([3, 3, 3, 3, 3, 3, 2, 2, 2, 2, 2, 2, 7, 7, 7, 7, 7, 5, 5, 5, 5, 6,\n",
       "       6, 6, 6, 6, 6, 6, 6, 0, 0, 0, 0, 1, 1, 1, 4, 4, 4, 4, 4],\n",
       "      dtype=int64)"
      ]
     },
     "execution_count": 7,
     "metadata": {},
     "output_type": "execute_result"
    }
   ],
   "source": [
    "training_labels"
   ]
  },
  {
   "cell_type": "code",
   "execution_count": 8,
   "metadata": {},
   "outputs": [],
   "source": [
    "vocab_size = 1000\n",
    "embedding_dim = 16\n",
    "max_len = 20\n",
    "oov_token = \"<OOV>\"\n",
    "\n",
    "tokenizer = Tokenizer(num_words=vocab_size, oov_token=oov_token)\n",
    "tokenizer.fit_on_texts(training_sentences)\n",
    "word_index = tokenizer.word_index\n",
    "sequences = tokenizer.texts_to_sequences(training_sentences)\n",
    "padded_sequences = pad_sequences(sequences, truncating='post', maxlen=max_len)"
   ]
  },
  {
   "cell_type": "markdown",
   "metadata": {},
   "source": [
    "# Model Training\n",
    "Let’s define our Neural Network architecture for the proposed model and for that we use the “Sequential” model class of Keras."
   ]
  },
  {
   "cell_type": "code",
   "execution_count": 9,
   "metadata": {},
   "outputs": [
    {
     "name": "stdout",
     "output_type": "stream",
     "text": [
      "Model: \"sequential\"\n",
      "_________________________________________________________________\n",
      " Layer (type)                Output Shape              Param #   \n",
      "=================================================================\n",
      " embedding (Embedding)       (None, 20, 16)            16000     \n",
      "                                                                 \n",
      " global_average_pooling1d (G  (None, 16)               0         \n",
      " lobalAveragePooling1D)                                          \n",
      "                                                                 \n",
      " dense (Dense)               (None, 16)                272       \n",
      "                                                                 \n",
      " dense_1 (Dense)             (None, 16)                272       \n",
      "                                                                 \n",
      " dense_2 (Dense)             (None, 13)                221       \n",
      "                                                                 \n",
      "=================================================================\n",
      "Total params: 16,765\n",
      "Trainable params: 16,765\n",
      "Non-trainable params: 0\n",
      "_________________________________________________________________\n"
     ]
    }
   ],
   "source": [
    "model = Sequential()\n",
    "model.add(Embedding(vocab_size, embedding_dim, input_length=max_len))\n",
    "model.add(GlobalAveragePooling1D())\n",
    "model.add(Dense(16, activation='relu'))\n",
    "model.add(Dense(16, activation='relu'))\n",
    "model.add(Dense(num_classes, activation='softmax'))\n",
    "\n",
    "model.compile(loss='sparse_categorical_crossentropy', \n",
    "              optimizer='adam', metrics=['accuracy'])\n",
    "\n",
    "model.summary()"
   ]
  },
  {
   "cell_type": "markdown",
   "metadata": {},
   "source": [
    "# Now we are ready to train our model. Simply we can call the “fit” method with training data and labels."
   ]
  },
  {
   "cell_type": "code",
   "execution_count": 6,
   "metadata": {
    "scrolled": true
   },
   "outputs": [
    {
     "name": "stdout",
     "output_type": "stream",
     "text": [
      "Epoch 1/500\n",
      "2/2 [==============================] - 1s 19ms/step - loss: 2.5600 - accuracy: 0.1951\n",
      "Epoch 2/500\n",
      "2/2 [==============================] - 0s 6ms/step - loss: 2.5561 - accuracy: 0.1951\n",
      "Epoch 3/500\n",
      "2/2 [==============================] - 0s 5ms/step - loss: 2.5528 - accuracy: 0.1951\n",
      "Epoch 4/500\n",
      "2/2 [==============================] - 0s 12ms/step - loss: 2.5495 - accuracy: 0.1951\n",
      "Epoch 5/500\n",
      "2/2 [==============================] - 0s 6ms/step - loss: 2.5459 - accuracy: 0.1951\n",
      "Epoch 6/500\n",
      "2/2 [==============================] - 0s 12ms/step - loss: 2.5422 - accuracy: 0.1951\n",
      "Epoch 7/500\n",
      "2/2 [==============================] - 0s 7ms/step - loss: 2.5386 - accuracy: 0.1951\n",
      "Epoch 8/500\n",
      "2/2 [==============================] - 0s 9ms/step - loss: 2.5347 - accuracy: 0.1951\n",
      "Epoch 9/500\n",
      "2/2 [==============================] - 0s 6ms/step - loss: 2.5306 - accuracy: 0.1951\n",
      "Epoch 10/500\n",
      "2/2 [==============================] - 0s 6ms/step - loss: 2.5270 - accuracy: 0.1951\n",
      "Epoch 11/500\n",
      "2/2 [==============================] - 0s 8ms/step - loss: 2.5229 - accuracy: 0.1951\n",
      "Epoch 12/500\n",
      "2/2 [==============================] - 0s 7ms/step - loss: 2.5182 - accuracy: 0.1951\n",
      "Epoch 13/500\n",
      "2/2 [==============================] - 0s 6ms/step - loss: 2.5142 - accuracy: 0.1951\n",
      "Epoch 14/500\n",
      "2/2 [==============================] - 0s 7ms/step - loss: 2.5099 - accuracy: 0.1951\n",
      "Epoch 15/500\n",
      "2/2 [==============================] - 0s 11ms/step - loss: 2.5056 - accuracy: 0.1951\n",
      "Epoch 16/500\n",
      "2/2 [==============================] - 0s 7ms/step - loss: 2.5009 - accuracy: 0.1951\n",
      "Epoch 17/500\n",
      "2/2 [==============================] - 0s 6ms/step - loss: 2.4964 - accuracy: 0.1951\n",
      "Epoch 18/500\n",
      "2/2 [==============================] - 0s 11ms/step - loss: 2.4916 - accuracy: 0.1951\n",
      "Epoch 19/500\n",
      "2/2 [==============================] - 0s 11ms/step - loss: 2.4864 - accuracy: 0.1951\n",
      "Epoch 20/500\n",
      "2/2 [==============================] - 0s 6ms/step - loss: 2.4815 - accuracy: 0.1951\n",
      "Epoch 21/500\n",
      "2/2 [==============================] - 0s 8ms/step - loss: 2.4763 - accuracy: 0.1951\n",
      "Epoch 22/500\n",
      "2/2 [==============================] - 0s 8ms/step - loss: 2.4707 - accuracy: 0.1951\n",
      "Epoch 23/500\n",
      "2/2 [==============================] - 0s 6ms/step - loss: 2.4652 - accuracy: 0.1951\n",
      "Epoch 24/500\n",
      "2/2 [==============================] - 0s 10ms/step - loss: 2.4595 - accuracy: 0.1951\n",
      "Epoch 25/500\n",
      "2/2 [==============================] - 0s 7ms/step - loss: 2.4532 - accuracy: 0.1951\n",
      "Epoch 26/500\n",
      "2/2 [==============================] - 0s 8ms/step - loss: 2.4470 - accuracy: 0.1951\n",
      "Epoch 27/500\n",
      "2/2 [==============================] - 0s 5ms/step - loss: 2.4404 - accuracy: 0.1951\n",
      "Epoch 28/500\n",
      "2/2 [==============================] - 0s 11ms/step - loss: 2.4345 - accuracy: 0.1951\n",
      "Epoch 29/500\n",
      "2/2 [==============================] - 0s 12ms/step - loss: 2.4273 - accuracy: 0.1951\n",
      "Epoch 30/500\n",
      "2/2 [==============================] - 0s 9ms/step - loss: 2.4207 - accuracy: 0.1951\n",
      "Epoch 31/500\n",
      "2/2 [==============================] - 0s 7ms/step - loss: 2.4149 - accuracy: 0.1951\n",
      "Epoch 32/500\n",
      "2/2 [==============================] - 0s 13ms/step - loss: 2.4076 - accuracy: 0.1951\n",
      "Epoch 33/500\n",
      "2/2 [==============================] - 0s 12ms/step - loss: 2.4015 - accuracy: 0.1951\n",
      "Epoch 34/500\n",
      "2/2 [==============================] - 0s 11ms/step - loss: 2.3952 - accuracy: 0.1951\n",
      "Epoch 35/500\n",
      "2/2 [==============================] - 0s 9ms/step - loss: 2.3887 - accuracy: 0.1951\n",
      "Epoch 36/500\n",
      "2/2 [==============================] - 0s 6ms/step - loss: 2.3826 - accuracy: 0.1951\n",
      "Epoch 37/500\n",
      "2/2 [==============================] - 0s 6ms/step - loss: 2.3768 - accuracy: 0.1951\n",
      "Epoch 38/500\n",
      "2/2 [==============================] - 0s 8ms/step - loss: 2.3695 - accuracy: 0.1951\n",
      "Epoch 39/500\n",
      "2/2 [==============================] - 0s 15ms/step - loss: 2.3642 - accuracy: 0.1951\n",
      "Epoch 40/500\n",
      "2/2 [==============================] - 0s 9ms/step - loss: 2.3566 - accuracy: 0.1951\n",
      "Epoch 41/500\n",
      "2/2 [==============================] - 0s 8ms/step - loss: 2.3499 - accuracy: 0.1951\n",
      "Epoch 42/500\n",
      "2/2 [==============================] - 0s 12ms/step - loss: 2.3432 - accuracy: 0.1951\n",
      "Epoch 43/500\n",
      "2/2 [==============================] - 0s 8ms/step - loss: 2.3364 - accuracy: 0.1951\n",
      "Epoch 44/500\n",
      "2/2 [==============================] - 0s 13ms/step - loss: 2.3298 - accuracy: 0.1951\n",
      "Epoch 45/500\n",
      "2/2 [==============================] - 0s 14ms/step - loss: 2.3226 - accuracy: 0.1951\n",
      "Epoch 46/500\n",
      "2/2 [==============================] - 0s 13ms/step - loss: 2.3160 - accuracy: 0.1951\n",
      "Epoch 47/500\n",
      "2/2 [==============================] - 0s 8ms/step - loss: 2.3088 - accuracy: 0.1951\n",
      "Epoch 48/500\n",
      "2/2 [==============================] - 0s 11ms/step - loss: 2.3015 - accuracy: 0.1951\n",
      "Epoch 49/500\n",
      "2/2 [==============================] - 0s 8ms/step - loss: 2.2961 - accuracy: 0.1951\n",
      "Epoch 50/500\n",
      "2/2 [==============================] - 0s 12ms/step - loss: 2.2895 - accuracy: 0.1951\n",
      "Epoch 51/500\n",
      "2/2 [==============================] - 0s 7ms/step - loss: 2.2822 - accuracy: 0.1951\n",
      "Epoch 52/500\n",
      "2/2 [==============================] - 0s 6ms/step - loss: 2.2765 - accuracy: 0.1951\n",
      "Epoch 53/500\n",
      "2/2 [==============================] - 0s 14ms/step - loss: 2.2700 - accuracy: 0.1951\n",
      "Epoch 54/500\n",
      "2/2 [==============================] - 0s 11ms/step - loss: 2.2645 - accuracy: 0.1951\n",
      "Epoch 55/500\n",
      "2/2 [==============================] - 0s 6ms/step - loss: 2.2580 - accuracy: 0.1951\n",
      "Epoch 56/500\n",
      "2/2 [==============================] - 0s 12ms/step - loss: 2.2525 - accuracy: 0.1951\n",
      "Epoch 57/500\n",
      "2/2 [==============================] - 0s 8ms/step - loss: 2.2467 - accuracy: 0.1951\n",
      "Epoch 58/500\n",
      "2/2 [==============================] - 0s 8ms/step - loss: 2.2413 - accuracy: 0.1951\n",
      "Epoch 59/500\n",
      "2/2 [==============================] - 0s 13ms/step - loss: 2.2358 - accuracy: 0.1951\n",
      "Epoch 60/500\n",
      "2/2 [==============================] - 0s 8ms/step - loss: 2.2303 - accuracy: 0.1951\n",
      "Epoch 61/500\n",
      "2/2 [==============================] - 0s 10ms/step - loss: 2.2255 - accuracy: 0.1951\n",
      "Epoch 62/500\n",
      "2/2 [==============================] - 0s 7ms/step - loss: 2.2207 - accuracy: 0.1951\n",
      "Epoch 63/500\n",
      "2/2 [==============================] - 0s 9ms/step - loss: 2.2152 - accuracy: 0.1951\n",
      "Epoch 64/500\n",
      "2/2 [==============================] - 0s 6ms/step - loss: 2.2104 - accuracy: 0.1951\n",
      "Epoch 65/500\n",
      "2/2 [==============================] - 0s 6ms/step - loss: 2.2054 - accuracy: 0.1951\n",
      "Epoch 66/500\n",
      "2/2 [==============================] - 0s 9ms/step - loss: 2.2001 - accuracy: 0.1951\n",
      "Epoch 67/500\n",
      "2/2 [==============================] - 0s 10ms/step - loss: 2.1954 - accuracy: 0.1951\n",
      "Epoch 68/500\n",
      "2/2 [==============================] - 0s 7ms/step - loss: 2.1905 - accuracy: 0.1951\n",
      "Epoch 69/500\n",
      "2/2 [==============================] - 0s 6ms/step - loss: 2.1862 - accuracy: 0.1951\n",
      "Epoch 70/500\n",
      "2/2 [==============================] - 0s 9ms/step - loss: 2.1814 - accuracy: 0.1951\n",
      "Epoch 71/500\n",
      "2/2 [==============================] - 0s 5ms/step - loss: 2.1768 - accuracy: 0.1951\n",
      "Epoch 72/500\n",
      "2/2 [==============================] - 0s 8ms/step - loss: 2.1723 - accuracy: 0.1951\n",
      "Epoch 73/500\n",
      "2/2 [==============================] - 0s 13ms/step - loss: 2.1673 - accuracy: 0.1951\n",
      "Epoch 74/500\n",
      "2/2 [==============================] - 0s 7ms/step - loss: 2.1629 - accuracy: 0.1951\n",
      "Epoch 75/500\n",
      "2/2 [==============================] - 0s 12ms/step - loss: 2.1585 - accuracy: 0.1951\n",
      "Epoch 76/500\n",
      "2/2 [==============================] - 0s 6ms/step - loss: 2.1537 - accuracy: 0.1951\n",
      "Epoch 77/500\n",
      "2/2 [==============================] - 0s 8ms/step - loss: 2.1493 - accuracy: 0.1951\n",
      "Epoch 78/500\n",
      "2/2 [==============================] - 0s 12ms/step - loss: 2.1442 - accuracy: 0.1951\n",
      "Epoch 79/500\n",
      "2/2 [==============================] - 0s 7ms/step - loss: 2.1394 - accuracy: 0.1951\n",
      "Epoch 80/500\n",
      "2/2 [==============================] - 0s 8ms/step - loss: 2.1354 - accuracy: 0.1951\n",
      "Epoch 81/500\n",
      "2/2 [==============================] - 0s 7ms/step - loss: 2.1306 - accuracy: 0.1951\n",
      "Epoch 82/500\n",
      "2/2 [==============================] - 0s 6ms/step - loss: 2.1260 - accuracy: 0.1951\n",
      "Epoch 83/500\n",
      "2/2 [==============================] - 0s 6ms/step - loss: 2.1218 - accuracy: 0.1951\n",
      "Epoch 84/500\n",
      "2/2 [==============================] - 0s 6ms/step - loss: 2.1172 - accuracy: 0.1951\n",
      "Epoch 85/500\n",
      "2/2 [==============================] - 0s 10ms/step - loss: 2.1129 - accuracy: 0.1951\n",
      "Epoch 86/500\n",
      "2/2 [==============================] - 0s 11ms/step - loss: 2.1084 - accuracy: 0.1951\n",
      "Epoch 87/500\n",
      "2/2 [==============================] - 0s 9ms/step - loss: 2.1036 - accuracy: 0.1951\n",
      "Epoch 88/500\n",
      "2/2 [==============================] - 0s 13ms/step - loss: 2.1010 - accuracy: 0.1951\n",
      "Epoch 89/500\n",
      "2/2 [==============================] - 0s 9ms/step - loss: 2.0962 - accuracy: 0.1951\n",
      "Epoch 90/500\n",
      "2/2 [==============================] - 0s 10ms/step - loss: 2.0916 - accuracy: 0.1951\n",
      "Epoch 91/500\n",
      "2/2 [==============================] - 0s 11ms/step - loss: 2.0875 - accuracy: 0.1951\n",
      "Epoch 92/500\n",
      "2/2 [==============================] - 0s 6ms/step - loss: 2.0838 - accuracy: 0.1951\n",
      "Epoch 93/500\n",
      "2/2 [==============================] - 0s 6ms/step - loss: 2.0798 - accuracy: 0.1951\n",
      "Epoch 94/500\n",
      "2/2 [==============================] - 0s 7ms/step - loss: 2.0759 - accuracy: 0.1951\n",
      "Epoch 95/500\n",
      "2/2 [==============================] - 0s 7ms/step - loss: 2.0726 - accuracy: 0.1951\n",
      "Epoch 96/500\n",
      "2/2 [==============================] - 0s 9ms/step - loss: 2.0687 - accuracy: 0.1951\n",
      "Epoch 97/500\n",
      "2/2 [==============================] - 0s 10ms/step - loss: 2.0653 - accuracy: 0.1951\n",
      "Epoch 98/500\n",
      "2/2 [==============================] - 0s 10ms/step - loss: 2.0613 - accuracy: 0.1951\n",
      "Epoch 99/500\n",
      "2/2 [==============================] - 0s 9ms/step - loss: 2.0576 - accuracy: 0.1951\n",
      "Epoch 100/500\n",
      "2/2 [==============================] - 0s 7ms/step - loss: 2.0537 - accuracy: 0.1951\n",
      "Epoch 101/500\n",
      "2/2 [==============================] - 0s 8ms/step - loss: 2.0498 - accuracy: 0.1951\n",
      "Epoch 102/500\n",
      "2/2 [==============================] - 0s 5ms/step - loss: 2.0471 - accuracy: 0.1951\n",
      "Epoch 103/500\n",
      "2/2 [==============================] - 0s 7ms/step - loss: 2.0431 - accuracy: 0.1951\n",
      "Epoch 104/500\n",
      "2/2 [==============================] - 0s 10ms/step - loss: 2.0398 - accuracy: 0.1951\n",
      "Epoch 105/500\n",
      "2/2 [==============================] - 0s 9ms/step - loss: 2.0362 - accuracy: 0.1951\n",
      "Epoch 106/500\n",
      "2/2 [==============================] - 0s 9ms/step - loss: 2.0332 - accuracy: 0.1951\n",
      "Epoch 107/500\n",
      "2/2 [==============================] - 0s 12ms/step - loss: 2.0296 - accuracy: 0.1951\n",
      "Epoch 108/500\n",
      "2/2 [==============================] - 0s 7ms/step - loss: 2.0263 - accuracy: 0.1951\n",
      "Epoch 109/500\n",
      "2/2 [==============================] - 0s 6ms/step - loss: 2.0228 - accuracy: 0.1951\n",
      "Epoch 110/500\n",
      "2/2 [==============================] - 0s 6ms/step - loss: 2.0198 - accuracy: 0.1951\n",
      "Epoch 111/500\n",
      "2/2 [==============================] - 0s 4ms/step - loss: 2.0168 - accuracy: 0.1951\n",
      "Epoch 112/500\n",
      "2/2 [==============================] - 0s 9ms/step - loss: 2.0140 - accuracy: 0.1951\n",
      "Epoch 113/500\n",
      "2/2 [==============================] - 0s 14ms/step - loss: 2.0108 - accuracy: 0.1951\n",
      "Epoch 114/500\n",
      "2/2 [==============================] - 0s 8ms/step - loss: 2.0072 - accuracy: 0.1951\n",
      "Epoch 115/500\n",
      "2/2 [==============================] - 0s 5ms/step - loss: 2.0039 - accuracy: 0.1951\n",
      "Epoch 116/500\n",
      "2/2 [==============================] - 0s 7ms/step - loss: 2.0000 - accuracy: 0.1951\n",
      "Epoch 117/500\n",
      "2/2 [==============================] - 0s 9ms/step - loss: 1.9956 - accuracy: 0.1951\n",
      "Epoch 118/500\n",
      "2/2 [==============================] - 0s 6ms/step - loss: 1.9916 - accuracy: 0.1951\n",
      "Epoch 119/500\n",
      "2/2 [==============================] - 0s 9ms/step - loss: 1.9884 - accuracy: 0.1951\n",
      "Epoch 120/500\n",
      "2/2 [==============================] - 0s 11ms/step - loss: 1.9852 - accuracy: 0.1951\n",
      "Epoch 121/500\n",
      "2/2 [==============================] - 0s 7ms/step - loss: 1.9820 - accuracy: 0.1951\n",
      "Epoch 122/500\n",
      "2/2 [==============================] - 0s 7ms/step - loss: 1.9781 - accuracy: 0.1951\n",
      "Epoch 123/500\n",
      "2/2 [==============================] - 0s 6ms/step - loss: 1.9746 - accuracy: 0.1951\n",
      "Epoch 124/500\n",
      "2/2 [==============================] - 0s 10ms/step - loss: 1.9711 - accuracy: 0.1951\n",
      "Epoch 125/500\n",
      "2/2 [==============================] - 0s 11ms/step - loss: 1.9676 - accuracy: 0.1951\n",
      "Epoch 126/500\n",
      "2/2 [==============================] - 0s 7ms/step - loss: 1.9642 - accuracy: 0.1951\n",
      "Epoch 127/500\n",
      "2/2 [==============================] - 0s 6ms/step - loss: 1.9612 - accuracy: 0.1951\n",
      "Epoch 128/500\n",
      "2/2 [==============================] - 0s 5ms/step - loss: 1.9577 - accuracy: 0.1951\n",
      "Epoch 129/500\n",
      "2/2 [==============================] - 0s 7ms/step - loss: 1.9535 - accuracy: 0.1951\n",
      "Epoch 130/500\n",
      "2/2 [==============================] - 0s 5ms/step - loss: 1.9497 - accuracy: 0.1951\n",
      "Epoch 131/500\n",
      "2/2 [==============================] - 0s 6ms/step - loss: 1.9463 - accuracy: 0.1951\n",
      "Epoch 132/500\n",
      "2/2 [==============================] - 0s 7ms/step - loss: 1.9420 - accuracy: 0.1951\n",
      "Epoch 133/500\n",
      "2/2 [==============================] - 0s 5ms/step - loss: 1.9386 - accuracy: 0.1951\n",
      "Epoch 134/500\n",
      "2/2 [==============================] - 0s 6ms/step - loss: 1.9354 - accuracy: 0.1951\n",
      "Epoch 135/500\n",
      "2/2 [==============================] - 0s 6ms/step - loss: 1.9323 - accuracy: 0.1951\n",
      "Epoch 136/500\n",
      "2/2 [==============================] - 0s 6ms/step - loss: 1.9293 - accuracy: 0.1951\n",
      "Epoch 137/500\n",
      "2/2 [==============================] - 0s 10ms/step - loss: 1.9252 - accuracy: 0.1951\n",
      "Epoch 138/500\n",
      "2/2 [==============================] - 0s 12ms/step - loss: 1.9209 - accuracy: 0.1951\n",
      "Epoch 139/500\n",
      "2/2 [==============================] - ETA: 0s - loss: 1.8746 - accuracy: 0.21 - 0s 10ms/step - loss: 1.9166 - accuracy: 0.1951\n",
      "Epoch 140/500\n",
      "2/2 [==============================] - 0s 7ms/step - loss: 1.9133 - accuracy: 0.1951\n",
      "Epoch 141/500\n",
      "2/2 [==============================] - 0s 4ms/step - loss: 1.9088 - accuracy: 0.1951\n",
      "Epoch 142/500\n",
      "2/2 [==============================] - 0s 6ms/step - loss: 1.9042 - accuracy: 0.1951\n",
      "Epoch 143/500\n",
      "2/2 [==============================] - 0s 8ms/step - loss: 1.9005 - accuracy: 0.1951\n",
      "Epoch 144/500\n",
      "2/2 [==============================] - 0s 6ms/step - loss: 1.8961 - accuracy: 0.1951\n",
      "Epoch 145/500\n",
      "2/2 [==============================] - 0s 5ms/step - loss: 1.8918 - accuracy: 0.1951\n",
      "Epoch 146/500\n",
      "2/2 [==============================] - 0s 7ms/step - loss: 1.8876 - accuracy: 0.1951\n",
      "Epoch 147/500\n",
      "2/2 [==============================] - 0s 11ms/step - loss: 1.8835 - accuracy: 0.1951\n",
      "Epoch 148/500\n",
      "2/2 [==============================] - 0s 11ms/step - loss: 1.8787 - accuracy: 0.1951\n",
      "Epoch 149/500\n",
      "2/2 [==============================] - 0s 8ms/step - loss: 1.8742 - accuracy: 0.1951\n",
      "Epoch 150/500\n",
      "2/2 [==============================] - 0s 9ms/step - loss: 1.8702 - accuracy: 0.1951\n",
      "Epoch 151/500\n",
      "2/2 [==============================] - 0s 6ms/step - loss: 1.8653 - accuracy: 0.1951\n",
      "Epoch 152/500\n",
      "2/2 [==============================] - ETA: 0s - loss: 1.8601 - accuracy: 0.21 - 0s 6ms/step - loss: 1.8607 - accuracy: 0.2195\n",
      "Epoch 153/500\n",
      "2/2 [==============================] - 0s 5ms/step - loss: 1.8560 - accuracy: 0.2195\n",
      "Epoch 154/500\n",
      "2/2 [==============================] - 0s 6ms/step - loss: 1.8511 - accuracy: 0.2195\n",
      "Epoch 155/500\n",
      "2/2 [==============================] - 0s 7ms/step - loss: 1.8462 - accuracy: 0.2195\n",
      "Epoch 156/500\n",
      "2/2 [==============================] - 0s 8ms/step - loss: 1.8410 - accuracy: 0.2195\n",
      "Epoch 157/500\n",
      "2/2 [==============================] - 0s 8ms/step - loss: 1.8366 - accuracy: 0.2195\n",
      "Epoch 158/500\n",
      "2/2 [==============================] - 0s 6ms/step - loss: 1.8316 - accuracy: 0.2195\n",
      "Epoch 159/500\n",
      "2/2 [==============================] - 0s 6ms/step - loss: 1.8264 - accuracy: 0.2195\n",
      "Epoch 160/500\n",
      "2/2 [==============================] - 0s 6ms/step - loss: 1.8204 - accuracy: 0.2195\n",
      "Epoch 161/500\n",
      "2/2 [==============================] - 0s 7ms/step - loss: 1.8152 - accuracy: 0.2439\n",
      "Epoch 162/500\n",
      "2/2 [==============================] - 0s 6ms/step - loss: 1.8098 - accuracy: 0.2439\n",
      "Epoch 163/500\n",
      "2/2 [==============================] - 0s 8ms/step - loss: 1.8045 - accuracy: 0.2195\n",
      "Epoch 164/500\n",
      "2/2 [==============================] - 0s 10ms/step - loss: 1.8011 - accuracy: 0.2195\n",
      "Epoch 165/500\n",
      "2/2 [==============================] - 0s 10ms/step - loss: 1.7967 - accuracy: 0.2195\n"
     ]
    },
    {
     "name": "stdout",
     "output_type": "stream",
     "text": [
      "Epoch 166/500\n",
      "2/2 [==============================] - ETA: 0s - loss: 1.7730 - accuracy: 0.28 - 0s 5ms/step - loss: 1.7905 - accuracy: 0.2439\n",
      "Epoch 167/500\n",
      "2/2 [==============================] - 0s 9ms/step - loss: 1.7835 - accuracy: 0.2683\n",
      "Epoch 168/500\n",
      "2/2 [==============================] - 0s 10ms/step - loss: 1.7788 - accuracy: 0.2927\n",
      "Epoch 169/500\n",
      "2/2 [==============================] - 0s 7ms/step - loss: 1.7736 - accuracy: 0.2927\n",
      "Epoch 170/500\n",
      "2/2 [==============================] - 0s 5ms/step - loss: 1.7685 - accuracy: 0.2927\n",
      "Epoch 171/500\n",
      "2/2 [==============================] - 0s 7ms/step - loss: 1.7632 - accuracy: 0.2927\n",
      "Epoch 172/500\n",
      "2/2 [==============================] - ETA: 0s - loss: 1.7762 - accuracy: 0.28 - 0s 8ms/step - loss: 1.7585 - accuracy: 0.2927\n",
      "Epoch 173/500\n",
      "2/2 [==============================] - 0s 9ms/step - loss: 1.7529 - accuracy: 0.2927\n",
      "Epoch 174/500\n",
      "2/2 [==============================] - 0s 6ms/step - loss: 1.7474 - accuracy: 0.2927\n",
      "Epoch 175/500\n",
      "2/2 [==============================] - 0s 8ms/step - loss: 1.7411 - accuracy: 0.2927\n",
      "Epoch 176/500\n",
      "2/2 [==============================] - 0s 10ms/step - loss: 1.7352 - accuracy: 0.2927\n",
      "Epoch 177/500\n",
      "2/2 [==============================] - 0s 10ms/step - loss: 1.7288 - accuracy: 0.2927\n",
      "Epoch 178/500\n",
      "2/2 [==============================] - 0s 11ms/step - loss: 1.7218 - accuracy: 0.2927\n",
      "Epoch 179/500\n",
      "2/2 [==============================] - 0s 5ms/step - loss: 1.7151 - accuracy: 0.2927\n",
      "Epoch 180/500\n",
      "2/2 [==============================] - 0s 7ms/step - loss: 1.7099 - accuracy: 0.2927\n",
      "Epoch 181/500\n",
      "2/2 [==============================] - 0s 7ms/step - loss: 1.7031 - accuracy: 0.2927\n",
      "Epoch 182/500\n",
      "2/2 [==============================] - 0s 6ms/step - loss: 1.6956 - accuracy: 0.2927\n",
      "Epoch 183/500\n",
      "2/2 [==============================] - 0s 7ms/step - loss: 1.6881 - accuracy: 0.2927\n",
      "Epoch 184/500\n",
      "2/2 [==============================] - 0s 6ms/step - loss: 1.6815 - accuracy: 0.2927\n",
      "Epoch 185/500\n",
      "2/2 [==============================] - 0s 6ms/step - loss: 1.6747 - accuracy: 0.2927\n",
      "Epoch 186/500\n",
      "2/2 [==============================] - 0s 5ms/step - loss: 1.6669 - accuracy: 0.2927\n",
      "Epoch 187/500\n",
      "2/2 [==============================] - 0s 10ms/step - loss: 1.6600 - accuracy: 0.2927\n",
      "Epoch 188/500\n",
      "2/2 [==============================] - 0s 10ms/step - loss: 1.6524 - accuracy: 0.2927\n",
      "Epoch 189/500\n",
      "2/2 [==============================] - 0s 7ms/step - loss: 1.6453 - accuracy: 0.2927\n",
      "Epoch 190/500\n",
      "2/2 [==============================] - ETA: 0s - loss: 1.6393 - accuracy: 0.31 - 0s 6ms/step - loss: 1.6377 - accuracy: 0.2927\n",
      "Epoch 191/500\n",
      "2/2 [==============================] - 0s 10ms/step - loss: 1.6300 - accuracy: 0.2927\n",
      "Epoch 192/500\n",
      "2/2 [==============================] - 0s 7ms/step - loss: 1.6217 - accuracy: 0.2927\n",
      "Epoch 193/500\n",
      "2/2 [==============================] - 0s 6ms/step - loss: 1.6148 - accuracy: 0.2927\n",
      "Epoch 194/500\n",
      "2/2 [==============================] - 0s 9ms/step - loss: 1.6066 - accuracy: 0.2927\n",
      "Epoch 195/500\n",
      "2/2 [==============================] - 0s 9ms/step - loss: 1.5994 - accuracy: 0.2927\n",
      "Epoch 196/500\n",
      "2/2 [==============================] - 0s 11ms/step - loss: 1.5920 - accuracy: 0.3171\n",
      "Epoch 197/500\n",
      "2/2 [==============================] - 0s 10ms/step - loss: 1.5847 - accuracy: 0.3659\n",
      "Epoch 198/500\n",
      "2/2 [==============================] - 0s 5ms/step - loss: 1.5788 - accuracy: 0.3659\n",
      "Epoch 199/500\n",
      "2/2 [==============================] - 0s 4ms/step - loss: 1.5707 - accuracy: 0.3902\n",
      "Epoch 200/500\n",
      "2/2 [==============================] - 0s 6ms/step - loss: 1.5634 - accuracy: 0.3902\n",
      "Epoch 201/500\n",
      "2/2 [==============================] - 0s 7ms/step - loss: 1.5551 - accuracy: 0.3902\n",
      "Epoch 202/500\n",
      "2/2 [==============================] - 0s 11ms/step - loss: 1.5473 - accuracy: 0.4634\n",
      "Epoch 203/500\n",
      "2/2 [==============================] - 0s 6ms/step - loss: 1.5392 - accuracy: 0.4878\n",
      "Epoch 204/500\n",
      "2/2 [==============================] - 0s 6ms/step - loss: 1.5329 - accuracy: 0.4878\n",
      "Epoch 205/500\n",
      "2/2 [==============================] - 0s 5ms/step - loss: 1.5243 - accuracy: 0.4878\n",
      "Epoch 206/500\n",
      "2/2 [==============================] - 0s 8ms/step - loss: 1.5160 - accuracy: 0.4878\n",
      "Epoch 207/500\n",
      "2/2 [==============================] - 0s 8ms/step - loss: 1.5081 - accuracy: 0.4878\n",
      "Epoch 208/500\n",
      "2/2 [==============================] - 0s 7ms/step - loss: 1.5000 - accuracy: 0.4878\n",
      "Epoch 209/500\n",
      "2/2 [==============================] - 0s 8ms/step - loss: 1.4925 - accuracy: 0.4878\n",
      "Epoch 210/500\n",
      "2/2 [==============================] - 0s 8ms/step - loss: 1.4847 - accuracy: 0.4878\n",
      "Epoch 211/500\n",
      "2/2 [==============================] - 0s 10ms/step - loss: 1.4777 - accuracy: 0.4878\n",
      "Epoch 212/500\n",
      "2/2 [==============================] - 0s 12ms/step - loss: 1.4698 - accuracy: 0.4878\n",
      "Epoch 213/500\n",
      "2/2 [==============================] - 0s 10ms/step - loss: 1.4633 - accuracy: 0.4878\n",
      "Epoch 214/500\n",
      "2/2 [==============================] - 0s 9ms/step - loss: 1.4555 - accuracy: 0.4878\n",
      "Epoch 215/500\n",
      "2/2 [==============================] - 0s 8ms/step - loss: 1.4479 - accuracy: 0.4878\n",
      "Epoch 216/500\n",
      "2/2 [==============================] - 0s 8ms/step - loss: 1.4390 - accuracy: 0.4878\n",
      "Epoch 217/500\n",
      "2/2 [==============================] - 0s 6ms/step - loss: 1.4313 - accuracy: 0.4878\n",
      "Epoch 218/500\n",
      "2/2 [==============================] - 0s 7ms/step - loss: 1.4228 - accuracy: 0.4878\n",
      "Epoch 219/500\n",
      "2/2 [==============================] - 0s 14ms/step - loss: 1.4130 - accuracy: 0.4878\n",
      "Epoch 220/500\n",
      "2/2 [==============================] - 0s 7ms/step - loss: 1.4041 - accuracy: 0.4878\n",
      "Epoch 221/500\n",
      "2/2 [==============================] - 0s 8ms/step - loss: 1.3964 - accuracy: 0.4878\n",
      "Epoch 222/500\n",
      "2/2 [==============================] - 0s 8ms/step - loss: 1.3874 - accuracy: 0.5122\n",
      "Epoch 223/500\n",
      "2/2 [==============================] - 0s 6ms/step - loss: 1.3784 - accuracy: 0.5122\n",
      "Epoch 224/500\n",
      "2/2 [==============================] - 0s 7ms/step - loss: 1.3697 - accuracy: 0.5122\n",
      "Epoch 225/500\n",
      "2/2 [==============================] - 0s 7ms/step - loss: 1.3611 - accuracy: 0.5122\n",
      "Epoch 226/500\n",
      "2/2 [==============================] - 0s 8ms/step - loss: 1.3521 - accuracy: 0.5122\n",
      "Epoch 227/500\n",
      "2/2 [==============================] - 0s 8ms/step - loss: 1.3430 - accuracy: 0.4878\n",
      "Epoch 228/500\n",
      "2/2 [==============================] - 0s 9ms/step - loss: 1.3359 - accuracy: 0.4878\n",
      "Epoch 229/500\n",
      "2/2 [==============================] - 0s 8ms/step - loss: 1.3267 - accuracy: 0.5366\n",
      "Epoch 230/500\n",
      "2/2 [==============================] - 0s 6ms/step - loss: 1.3173 - accuracy: 0.5610\n",
      "Epoch 231/500\n",
      "2/2 [==============================] - 0s 6ms/step - loss: 1.3077 - accuracy: 0.5610\n",
      "Epoch 232/500\n",
      "2/2 [==============================] - 0s 9ms/step - loss: 1.2980 - accuracy: 0.5610\n",
      "Epoch 233/500\n",
      "2/2 [==============================] - 0s 11ms/step - loss: 1.2892 - accuracy: 0.5610\n",
      "Epoch 234/500\n",
      "2/2 [==============================] - 0s 5ms/step - loss: 1.2794 - accuracy: 0.5610\n",
      "Epoch 235/500\n",
      "2/2 [==============================] - 0s 5ms/step - loss: 1.2706 - accuracy: 0.5854\n",
      "Epoch 236/500\n",
      "2/2 [==============================] - 0s 5ms/step - loss: 1.2605 - accuracy: 0.5854\n",
      "Epoch 237/500\n",
      "2/2 [==============================] - 0s 6ms/step - loss: 1.2514 - accuracy: 0.5854\n",
      "Epoch 238/500\n",
      "2/2 [==============================] - 0s 6ms/step - loss: 1.2416 - accuracy: 0.6098\n",
      "Epoch 239/500\n",
      "2/2 [==============================] - 0s 6ms/step - loss: 1.2323 - accuracy: 0.6098\n",
      "Epoch 240/500\n",
      "2/2 [==============================] - 0s 13ms/step - loss: 1.2229 - accuracy: 0.6098\n",
      "Epoch 241/500\n",
      "2/2 [==============================] - 0s 10ms/step - loss: 1.2136 - accuracy: 0.6098\n",
      "Epoch 242/500\n",
      "2/2 [==============================] - 0s 6ms/step - loss: 1.2044 - accuracy: 0.6098\n",
      "Epoch 243/500\n",
      "2/2 [==============================] - 0s 7ms/step - loss: 1.1954 - accuracy: 0.6098\n",
      "Epoch 244/500\n",
      "2/2 [==============================] - 0s 6ms/step - loss: 1.1860 - accuracy: 0.6098\n",
      "Epoch 245/500\n",
      "2/2 [==============================] - 0s 7ms/step - loss: 1.1758 - accuracy: 0.6341\n",
      "Epoch 246/500\n",
      "2/2 [==============================] - 0s 6ms/step - loss: 1.1663 - accuracy: 0.6585\n",
      "Epoch 247/500\n",
      "2/2 [==============================] - 0s 6ms/step - loss: 1.1563 - accuracy: 0.6829\n",
      "Epoch 248/500\n",
      "2/2 [==============================] - 0s 7ms/step - loss: 1.1468 - accuracy: 0.6829\n",
      "Epoch 249/500\n",
      "2/2 [==============================] - 0s 7ms/step - loss: 1.1390 - accuracy: 0.6829\n",
      "Epoch 250/500\n",
      "2/2 [==============================] - 0s 6ms/step - loss: 1.1281 - accuracy: 0.6829\n",
      "Epoch 251/500\n",
      "2/2 [==============================] - 0s 10ms/step - loss: 1.1178 - accuracy: 0.6829\n",
      "Epoch 252/500\n",
      "2/2 [==============================] - 0s 5ms/step - loss: 1.1091 - accuracy: 0.6829\n",
      "Epoch 253/500\n",
      "2/2 [==============================] - 0s 8ms/step - loss: 1.0991 - accuracy: 0.6829\n",
      "Epoch 254/500\n",
      "2/2 [==============================] - 0s 6ms/step - loss: 1.0904 - accuracy: 0.6829\n",
      "Epoch 255/500\n",
      "2/2 [==============================] - 0s 11ms/step - loss: 1.0819 - accuracy: 0.6829\n",
      "Epoch 256/500\n",
      "2/2 [==============================] - 0s 12ms/step - loss: 1.0726 - accuracy: 0.6829\n",
      "Epoch 257/500\n",
      "2/2 [==============================] - 0s 7ms/step - loss: 1.0629 - accuracy: 0.6829\n",
      "Epoch 258/500\n",
      "2/2 [==============================] - 0s 6ms/step - loss: 1.0524 - accuracy: 0.6829\n",
      "Epoch 259/500\n",
      "2/2 [==============================] - 0s 7ms/step - loss: 1.0420 - accuracy: 0.6829\n",
      "Epoch 260/500\n",
      "2/2 [==============================] - 0s 7ms/step - loss: 1.0341 - accuracy: 0.6829\n",
      "Epoch 261/500\n",
      "2/2 [==============================] - 0s 9ms/step - loss: 1.0269 - accuracy: 0.6829\n",
      "Epoch 262/500\n",
      "2/2 [==============================] - 0s 9ms/step - loss: 1.0173 - accuracy: 0.7073\n",
      "Epoch 263/500\n",
      "2/2 [==============================] - 0s 9ms/step - loss: 1.0080 - accuracy: 0.7073\n",
      "Epoch 264/500\n",
      "2/2 [==============================] - 0s 9ms/step - loss: 0.9978 - accuracy: 0.7073\n",
      "Epoch 265/500\n",
      "2/2 [==============================] - 0s 9ms/step - loss: 0.9883 - accuracy: 0.7073\n",
      "Epoch 266/500\n",
      "2/2 [==============================] - ETA: 0s - loss: 0.9808 - accuracy: 0.71 - 0s 6ms/step - loss: 0.9794 - accuracy: 0.7073\n",
      "Epoch 267/500\n",
      "2/2 [==============================] - 0s 4ms/step - loss: 0.9710 - accuracy: 0.6829\n",
      "Epoch 268/500\n",
      "2/2 [==============================] - 0s 8ms/step - loss: 0.9619 - accuracy: 0.6829\n",
      "Epoch 269/500\n",
      "2/2 [==============================] - 0s 9ms/step - loss: 0.9532 - accuracy: 0.7073\n",
      "Epoch 270/500\n",
      "2/2 [==============================] - 0s 6ms/step - loss: 0.9435 - accuracy: 0.7073\n",
      "Epoch 271/500\n",
      "2/2 [==============================] - 0s 6ms/step - loss: 0.9341 - accuracy: 0.7073\n",
      "Epoch 272/500\n",
      "2/2 [==============================] - 0s 8ms/step - loss: 0.9249 - accuracy: 0.7073\n",
      "Epoch 273/500\n",
      "2/2 [==============================] - 0s 6ms/step - loss: 0.9166 - accuracy: 0.7317\n",
      "Epoch 274/500\n",
      "2/2 [==============================] - 0s 7ms/step - loss: 0.9076 - accuracy: 0.7561\n",
      "Epoch 275/500\n",
      "2/2 [==============================] - 0s 6ms/step - loss: 0.9001 - accuracy: 0.8049\n",
      "Epoch 276/500\n",
      "2/2 [==============================] - 0s 11ms/step - loss: 0.8917 - accuracy: 0.8293\n",
      "Epoch 277/500\n",
      "2/2 [==============================] - 0s 9ms/step - loss: 0.8832 - accuracy: 0.8293\n",
      "Epoch 278/500\n",
      "2/2 [==============================] - 0s 7ms/step - loss: 0.8743 - accuracy: 0.8293\n",
      "Epoch 279/500\n",
      "2/2 [==============================] - 0s 8ms/step - loss: 0.8655 - accuracy: 0.8293\n",
      "Epoch 280/500\n",
      "2/2 [==============================] - 0s 6ms/step - loss: 0.8553 - accuracy: 0.8049\n",
      "Epoch 281/500\n",
      "2/2 [==============================] - 0s 7ms/step - loss: 0.8470 - accuracy: 0.8293\n",
      "Epoch 282/500\n",
      "2/2 [==============================] - 0s 6ms/step - loss: 0.8382 - accuracy: 0.8293\n",
      "Epoch 283/500\n",
      "2/2 [==============================] - 0s 6ms/step - loss: 0.8303 - accuracy: 0.8293\n",
      "Epoch 284/500\n",
      "2/2 [==============================] - 0s 5ms/step - loss: 0.8225 - accuracy: 0.9024\n",
      "Epoch 285/500\n",
      "2/2 [==============================] - 0s 9ms/step - loss: 0.8150 - accuracy: 0.9024\n",
      "Epoch 286/500\n",
      "2/2 [==============================] - 0s 9ms/step - loss: 0.8080 - accuracy: 0.9024\n",
      "Epoch 287/500\n",
      "2/2 [==============================] - 0s 10ms/step - loss: 0.8004 - accuracy: 0.9024\n",
      "Epoch 288/500\n",
      "2/2 [==============================] - 0s 11ms/step - loss: 0.7925 - accuracy: 0.9024\n",
      "Epoch 289/500\n",
      "2/2 [==============================] - 0s 8ms/step - loss: 0.7833 - accuracy: 0.9268\n",
      "Epoch 290/500\n",
      "2/2 [==============================] - 0s 10ms/step - loss: 0.7754 - accuracy: 0.9268\n",
      "Epoch 291/500\n",
      "2/2 [==============================] - 0s 6ms/step - loss: 0.7676 - accuracy: 0.9268\n",
      "Epoch 292/500\n",
      "2/2 [==============================] - 0s 6ms/step - loss: 0.7597 - accuracy: 0.9512\n",
      "Epoch 293/500\n",
      "2/2 [==============================] - 0s 4ms/step - loss: 0.7528 - accuracy: 0.9512\n",
      "Epoch 294/500\n",
      "2/2 [==============================] - 0s 8ms/step - loss: 0.7451 - accuracy: 0.9512\n",
      "Epoch 295/500\n",
      "2/2 [==============================] - 0s 8ms/step - loss: 0.7370 - accuracy: 0.9268\n",
      "Epoch 296/500\n",
      "2/2 [==============================] - 0s 11ms/step - loss: 0.7290 - accuracy: 0.9268\n",
      "Epoch 297/500\n",
      "2/2 [==============================] - 0s 10ms/step - loss: 0.7224 - accuracy: 0.8780\n",
      "Epoch 298/500\n",
      "2/2 [==============================] - 0s 13ms/step - loss: 0.7155 - accuracy: 0.8537\n",
      "Epoch 299/500\n",
      "2/2 [==============================] - 0s 8ms/step - loss: 0.7078 - accuracy: 0.8537\n",
      "Epoch 300/500\n",
      "2/2 [==============================] - 0s 10ms/step - loss: 0.7008 - accuracy: 0.8537\n",
      "Epoch 301/500\n",
      "2/2 [==============================] - 0s 12ms/step - loss: 0.6942 - accuracy: 0.8537\n",
      "Epoch 302/500\n",
      "2/2 [==============================] - 0s 12ms/step - loss: 0.6870 - accuracy: 0.8537\n",
      "Epoch 303/500\n",
      "2/2 [==============================] - 0s 8ms/step - loss: 0.6801 - accuracy: 0.8537\n",
      "Epoch 304/500\n",
      "2/2 [==============================] - 0s 6ms/step - loss: 0.6736 - accuracy: 0.8537\n",
      "Epoch 305/500\n",
      "2/2 [==============================] - 0s 6ms/step - loss: 0.6667 - accuracy: 0.8780\n",
      "Epoch 306/500\n",
      "2/2 [==============================] - 0s 5ms/step - loss: 0.6597 - accuracy: 0.8780\n",
      "Epoch 307/500\n",
      "2/2 [==============================] - 0s 8ms/step - loss: 0.6535 - accuracy: 0.8537\n",
      "Epoch 308/500\n",
      "2/2 [==============================] - 0s 7ms/step - loss: 0.6468 - accuracy: 0.8780\n",
      "Epoch 309/500\n",
      "2/2 [==============================] - 0s 8ms/step - loss: 0.6399 - accuracy: 0.8780\n",
      "Epoch 310/500\n",
      "2/2 [==============================] - 0s 7ms/step - loss: 0.6338 - accuracy: 0.8780\n",
      "Epoch 311/500\n",
      "2/2 [==============================] - 0s 9ms/step - loss: 0.6275 - accuracy: 0.9024\n",
      "Epoch 312/500\n",
      "2/2 [==============================] - 0s 10ms/step - loss: 0.6207 - accuracy: 0.9268\n",
      "Epoch 313/500\n",
      "2/2 [==============================] - 0s 6ms/step - loss: 0.6149 - accuracy: 0.9512\n",
      "Epoch 314/500\n",
      "2/2 [==============================] - 0s 6ms/step - loss: 0.6086 - accuracy: 0.9512\n",
      "Epoch 315/500\n",
      "2/2 [==============================] - 0s 8ms/step - loss: 0.6023 - accuracy: 0.9512\n",
      "Epoch 316/500\n",
      "2/2 [==============================] - 0s 5ms/step - loss: 0.5965 - accuracy: 0.9512\n",
      "Epoch 317/500\n",
      "2/2 [==============================] - 0s 6ms/step - loss: 0.5905 - accuracy: 0.9512\n",
      "Epoch 318/500\n",
      "2/2 [==============================] - 0s 5ms/step - loss: 0.5850 - accuracy: 0.9512\n",
      "Epoch 319/500\n",
      "2/2 [==============================] - 0s 6ms/step - loss: 0.5781 - accuracy: 0.9512\n",
      "Epoch 320/500\n",
      "2/2 [==============================] - 0s 5ms/step - loss: 0.5729 - accuracy: 0.9512\n",
      "Epoch 321/500\n",
      "2/2 [==============================] - 0s 8ms/step - loss: 0.5666 - accuracy: 0.9512\n",
      "Epoch 322/500\n",
      "2/2 [==============================] - 0s 6ms/step - loss: 0.5602 - accuracy: 0.9512\n",
      "Epoch 323/500\n",
      "2/2 [==============================] - 0s 5ms/step - loss: 0.5558 - accuracy: 0.9512\n",
      "Epoch 324/500\n",
      "2/2 [==============================] - 0s 7ms/step - loss: 0.5495 - accuracy: 0.9512\n",
      "Epoch 325/500\n",
      "2/2 [==============================] - 0s 7ms/step - loss: 0.5442 - accuracy: 0.9512\n",
      "Epoch 326/500\n",
      "2/2 [==============================] - 0s 8ms/step - loss: 0.5379 - accuracy: 0.9512\n",
      "Epoch 327/500\n",
      "2/2 [==============================] - 0s 9ms/step - loss: 0.5315 - accuracy: 0.9512\n",
      "Epoch 328/500\n",
      "2/2 [==============================] - 0s 11ms/step - loss: 0.5257 - accuracy: 0.9512\n",
      "Epoch 329/500\n"
     ]
    },
    {
     "name": "stdout",
     "output_type": "stream",
     "text": [
      "2/2 [==============================] - 0s 10ms/step - loss: 0.5208 - accuracy: 0.9512\n",
      "Epoch 330/500\n",
      "2/2 [==============================] - 0s 6ms/step - loss: 0.5148 - accuracy: 0.9512\n",
      "Epoch 331/500\n",
      "2/2 [==============================] - 0s 7ms/step - loss: 0.5094 - accuracy: 0.9512\n",
      "Epoch 332/500\n",
      "2/2 [==============================] - 0s 5ms/step - loss: 0.5037 - accuracy: 0.9512\n",
      "Epoch 333/500\n",
      "2/2 [==============================] - ETA: 0s - loss: 0.5367 - accuracy: 0.93 - 0s 7ms/step - loss: 0.4991 - accuracy: 0.9268\n",
      "Epoch 334/500\n",
      "2/2 [==============================] - 0s 9ms/step - loss: 0.4940 - accuracy: 0.9268\n",
      "Epoch 335/500\n",
      "2/2 [==============================] - 0s 9ms/step - loss: 0.4882 - accuracy: 0.9268\n",
      "Epoch 336/500\n",
      "2/2 [==============================] - 0s 9ms/step - loss: 0.4834 - accuracy: 0.9024\n",
      "Epoch 337/500\n",
      "2/2 [==============================] - 0s 7ms/step - loss: 0.4783 - accuracy: 0.9024\n",
      "Epoch 338/500\n",
      "2/2 [==============================] - 0s 8ms/step - loss: 0.4734 - accuracy: 0.9024\n",
      "Epoch 339/500\n",
      "2/2 [==============================] - 0s 14ms/step - loss: 0.4683 - accuracy: 0.9024\n",
      "Epoch 340/500\n",
      "2/2 [==============================] - 0s 11ms/step - loss: 0.4631 - accuracy: 0.9268\n",
      "Epoch 341/500\n",
      "2/2 [==============================] - 0s 11ms/step - loss: 0.4581 - accuracy: 0.9268\n",
      "Epoch 342/500\n",
      "2/2 [==============================] - 0s 13ms/step - loss: 0.4537 - accuracy: 0.9268\n",
      "Epoch 343/500\n",
      "2/2 [==============================] - 0s 11ms/step - loss: 0.4490 - accuracy: 0.9512\n",
      "Epoch 344/500\n",
      "2/2 [==============================] - 0s 7ms/step - loss: 0.4435 - accuracy: 0.9512\n",
      "Epoch 345/500\n",
      "2/2 [==============================] - 0s 10ms/step - loss: 0.4386 - accuracy: 0.9756\n",
      "Epoch 346/500\n",
      "2/2 [==============================] - 0s 10ms/step - loss: 0.4322 - accuracy: 1.0000\n",
      "Epoch 347/500\n",
      "2/2 [==============================] - 0s 6ms/step - loss: 0.4296 - accuracy: 1.0000\n",
      "Epoch 348/500\n",
      "2/2 [==============================] - 0s 14ms/step - loss: 0.4242 - accuracy: 1.0000\n",
      "Epoch 349/500\n",
      "2/2 [==============================] - 0s 9ms/step - loss: 0.4200 - accuracy: 1.0000\n",
      "Epoch 350/500\n",
      "2/2 [==============================] - 0s 8ms/step - loss: 0.4152 - accuracy: 1.0000\n",
      "Epoch 351/500\n",
      "2/2 [==============================] - 0s 6ms/step - loss: 0.4101 - accuracy: 1.0000\n",
      "Epoch 352/500\n",
      "2/2 [==============================] - 0s 8ms/step - loss: 0.4051 - accuracy: 1.0000\n",
      "Epoch 353/500\n",
      "2/2 [==============================] - 0s 10ms/step - loss: 0.4002 - accuracy: 1.0000\n",
      "Epoch 354/500\n",
      "2/2 [==============================] - 0s 7ms/step - loss: 0.3954 - accuracy: 1.0000\n",
      "Epoch 355/500\n",
      "2/2 [==============================] - 0s 11ms/step - loss: 0.3922 - accuracy: 1.0000\n",
      "Epoch 356/500\n",
      "2/2 [==============================] - 0s 7ms/step - loss: 0.3869 - accuracy: 1.0000\n",
      "Epoch 357/500\n",
      "2/2 [==============================] - 0s 13ms/step - loss: 0.3831 - accuracy: 1.0000\n",
      "Epoch 358/500\n",
      "2/2 [==============================] - 0s 9ms/step - loss: 0.3782 - accuracy: 1.0000\n",
      "Epoch 359/500\n",
      "2/2 [==============================] - 0s 9ms/step - loss: 0.3739 - accuracy: 1.0000\n",
      "Epoch 360/500\n",
      "2/2 [==============================] - 0s 7ms/step - loss: 0.3698 - accuracy: 1.0000\n",
      "Epoch 361/500\n",
      "2/2 [==============================] - 0s 6ms/step - loss: 0.3660 - accuracy: 1.0000\n",
      "Epoch 362/500\n",
      "2/2 [==============================] - 0s 7ms/step - loss: 0.3624 - accuracy: 1.0000\n",
      "Epoch 363/500\n",
      "2/2 [==============================] - 0s 8ms/step - loss: 0.3589 - accuracy: 1.0000\n",
      "Epoch 364/500\n",
      "2/2 [==============================] - 0s 8ms/step - loss: 0.3546 - accuracy: 1.0000\n",
      "Epoch 365/500\n",
      "2/2 [==============================] - 0s 9ms/step - loss: 0.3505 - accuracy: 1.0000\n",
      "Epoch 366/500\n",
      "2/2 [==============================] - 0s 9ms/step - loss: 0.3460 - accuracy: 1.0000\n",
      "Epoch 367/500\n",
      "2/2 [==============================] - 0s 13ms/step - loss: 0.3422 - accuracy: 1.0000\n",
      "Epoch 368/500\n",
      "2/2 [==============================] - 0s 14ms/step - loss: 0.3393 - accuracy: 1.0000\n",
      "Epoch 369/500\n",
      "2/2 [==============================] - 0s 10ms/step - loss: 0.3356 - accuracy: 1.0000\n",
      "Epoch 370/500\n",
      "2/2 [==============================] - 0s 9ms/step - loss: 0.3313 - accuracy: 1.0000\n",
      "Epoch 371/500\n",
      "2/2 [==============================] - 0s 8ms/step - loss: 0.3274 - accuracy: 1.0000\n",
      "Epoch 372/500\n",
      "2/2 [==============================] - 0s 8ms/step - loss: 0.3244 - accuracy: 1.0000\n",
      "Epoch 373/500\n",
      "2/2 [==============================] - 0s 7ms/step - loss: 0.3209 - accuracy: 1.0000\n",
      "Epoch 374/500\n",
      "2/2 [==============================] - 0s 6ms/step - loss: 0.3178 - accuracy: 1.0000\n",
      "Epoch 375/500\n",
      "2/2 [==============================] - 0s 5ms/step - loss: 0.3141 - accuracy: 1.0000\n",
      "Epoch 376/500\n",
      "2/2 [==============================] - 0s 6ms/step - loss: 0.3104 - accuracy: 1.0000\n",
      "Epoch 377/500\n",
      "2/2 [==============================] - 0s 10ms/step - loss: 0.3067 - accuracy: 1.0000\n",
      "Epoch 378/500\n",
      "2/2 [==============================] - 0s 9ms/step - loss: 0.3028 - accuracy: 1.0000\n",
      "Epoch 379/500\n",
      "2/2 [==============================] - 0s 9ms/step - loss: 0.2994 - accuracy: 1.0000\n",
      "Epoch 380/500\n",
      "2/2 [==============================] - 0s 6ms/step - loss: 0.2957 - accuracy: 1.0000\n",
      "Epoch 381/500\n",
      "2/2 [==============================] - 0s 6ms/step - loss: 0.2934 - accuracy: 1.0000\n",
      "Epoch 382/500\n",
      "2/2 [==============================] - 0s 6ms/step - loss: 0.2891 - accuracy: 1.0000\n",
      "Epoch 383/500\n",
      "2/2 [==============================] - 0s 10ms/step - loss: 0.2856 - accuracy: 1.0000\n",
      "Epoch 384/500\n",
      "2/2 [==============================] - 0s 9ms/step - loss: 0.2827 - accuracy: 1.0000\n",
      "Epoch 385/500\n",
      "2/2 [==============================] - 0s 7ms/step - loss: 0.2802 - accuracy: 1.0000\n",
      "Epoch 386/500\n",
      "2/2 [==============================] - 0s 11ms/step - loss: 0.2778 - accuracy: 1.0000\n",
      "Epoch 387/500\n",
      "2/2 [==============================] - 0s 10ms/step - loss: 0.2758 - accuracy: 1.0000\n",
      "Epoch 388/500\n",
      "2/2 [==============================] - 0s 8ms/step - loss: 0.2744 - accuracy: 1.0000\n",
      "Epoch 389/500\n",
      "2/2 [==============================] - 0s 14ms/step - loss: 0.2721 - accuracy: 1.0000\n",
      "Epoch 390/500\n",
      "2/2 [==============================] - 0s 8ms/step - loss: 0.2683 - accuracy: 1.0000\n",
      "Epoch 391/500\n",
      "2/2 [==============================] - 0s 5ms/step - loss: 0.2655 - accuracy: 1.0000\n",
      "Epoch 392/500\n",
      "2/2 [==============================] - 0s 6ms/step - loss: 0.2609 - accuracy: 1.0000\n",
      "Epoch 393/500\n",
      "2/2 [==============================] - 0s 10ms/step - loss: 0.2556 - accuracy: 1.0000\n",
      "Epoch 394/500\n",
      "2/2 [==============================] - 0s 6ms/step - loss: 0.2532 - accuracy: 1.0000\n",
      "Epoch 395/500\n",
      "2/2 [==============================] - 0s 14ms/step - loss: 0.2516 - accuracy: 1.0000\n",
      "Epoch 396/500\n",
      "2/2 [==============================] - 0s 8ms/step - loss: 0.2503 - accuracy: 1.0000\n",
      "Epoch 397/500\n",
      "2/2 [==============================] - 0s 6ms/step - loss: 0.2476 - accuracy: 1.0000\n",
      "Epoch 398/500\n",
      "2/2 [==============================] - 0s 10ms/step - loss: 0.2428 - accuracy: 1.0000\n",
      "Epoch 399/500\n",
      "2/2 [==============================] - 0s 8ms/step - loss: 0.2391 - accuracy: 1.0000\n",
      "Epoch 400/500\n",
      "2/2 [==============================] - 0s 8ms/step - loss: 0.2361 - accuracy: 1.0000\n",
      "Epoch 401/500\n",
      "2/2 [==============================] - 0s 8ms/step - loss: 0.2342 - accuracy: 1.0000\n",
      "Epoch 402/500\n",
      "2/2 [==============================] - 0s 6ms/step - loss: 0.2338 - accuracy: 1.0000\n",
      "Epoch 403/500\n",
      "2/2 [==============================] - 0s 9ms/step - loss: 0.2315 - accuracy: 1.0000\n",
      "Epoch 404/500\n",
      "2/2 [==============================] - 0s 8ms/step - loss: 0.2280 - accuracy: 1.0000\n",
      "Epoch 405/500\n",
      "2/2 [==============================] - 0s 6ms/step - loss: 0.2251 - accuracy: 1.0000\n",
      "Epoch 406/500\n",
      "2/2 [==============================] - 0s 7ms/step - loss: 0.2215 - accuracy: 1.0000\n",
      "Epoch 407/500\n",
      "2/2 [==============================] - 0s 14ms/step - loss: 0.2197 - accuracy: 1.0000\n",
      "Epoch 408/500\n",
      "2/2 [==============================] - 0s 7ms/step - loss: 0.2170 - accuracy: 1.0000\n",
      "Epoch 409/500\n",
      "2/2 [==============================] - 0s 6ms/step - loss: 0.2148 - accuracy: 1.0000\n",
      "Epoch 410/500\n",
      "2/2 [==============================] - 0s 14ms/step - loss: 0.2126 - accuracy: 1.0000\n",
      "Epoch 411/500\n",
      "2/2 [==============================] - 0s 8ms/step - loss: 0.2103 - accuracy: 1.0000\n",
      "Epoch 412/500\n",
      "2/2 [==============================] - 0s 7ms/step - loss: 0.2080 - accuracy: 1.0000\n",
      "Epoch 413/500\n",
      "2/2 [==============================] - 0s 6ms/step - loss: 0.2056 - accuracy: 1.0000\n",
      "Epoch 414/500\n",
      "2/2 [==============================] - 0s 10ms/step - loss: 0.2034 - accuracy: 1.0000\n",
      "Epoch 415/500\n",
      "2/2 [==============================] - 0s 5ms/step - loss: 0.2009 - accuracy: 1.0000\n",
      "Epoch 416/500\n",
      "2/2 [==============================] - 0s 6ms/step - loss: 0.1986 - accuracy: 1.0000\n",
      "Epoch 417/500\n",
      "2/2 [==============================] - 0s 9ms/step - loss: 0.1964 - accuracy: 1.0000\n",
      "Epoch 418/500\n",
      "2/2 [==============================] - 0s 9ms/step - loss: 0.1944 - accuracy: 1.0000\n",
      "Epoch 419/500\n",
      "2/2 [==============================] - 0s 10ms/step - loss: 0.1920 - accuracy: 1.0000\n",
      "Epoch 420/500\n",
      "2/2 [==============================] - 0s 10ms/step - loss: 0.1896 - accuracy: 1.0000\n",
      "Epoch 421/500\n",
      "2/2 [==============================] - 0s 7ms/step - loss: 0.1875 - accuracy: 1.0000\n",
      "Epoch 422/500\n",
      "2/2 [==============================] - 0s 10ms/step - loss: 0.1858 - accuracy: 1.0000\n",
      "Epoch 423/500\n",
      "2/2 [==============================] - 0s 11ms/step - loss: 0.1840 - accuracy: 1.0000\n",
      "Epoch 424/500\n",
      "2/2 [==============================] - 0s 9ms/step - loss: 0.1812 - accuracy: 1.0000\n",
      "Epoch 425/500\n",
      "2/2 [==============================] - 0s 12ms/step - loss: 0.1792 - accuracy: 1.0000\n",
      "Epoch 426/500\n",
      "2/2 [==============================] - 0s 9ms/step - loss: 0.1771 - accuracy: 1.0000\n",
      "Epoch 427/500\n",
      "2/2 [==============================] - 0s 15ms/step - loss: 0.1759 - accuracy: 1.0000\n",
      "Epoch 428/500\n",
      "2/2 [==============================] - 0s 10ms/step - loss: 0.1745 - accuracy: 1.0000\n",
      "Epoch 429/500\n",
      "2/2 [==============================] - 0s 9ms/step - loss: 0.1729 - accuracy: 1.0000\n",
      "Epoch 430/500\n",
      "2/2 [==============================] - 0s 13ms/step - loss: 0.1707 - accuracy: 1.0000\n",
      "Epoch 431/500\n",
      "2/2 [==============================] - 0s 5ms/step - loss: 0.1681 - accuracy: 1.0000\n",
      "Epoch 432/500\n",
      "2/2 [==============================] - 0s 10ms/step - loss: 0.1666 - accuracy: 1.0000\n",
      "Epoch 433/500\n",
      "2/2 [==============================] - 0s 9ms/step - loss: 0.1652 - accuracy: 1.0000\n",
      "Epoch 434/500\n",
      "2/2 [==============================] - 0s 10ms/step - loss: 0.1643 - accuracy: 1.0000\n",
      "Epoch 435/500\n",
      "2/2 [==============================] - 0s 9ms/step - loss: 0.1628 - accuracy: 1.0000\n",
      "Epoch 436/500\n",
      "2/2 [==============================] - 0s 10ms/step - loss: 0.1614 - accuracy: 1.0000\n",
      "Epoch 437/500\n",
      "2/2 [==============================] - 0s 6ms/step - loss: 0.1596 - accuracy: 1.0000\n",
      "Epoch 438/500\n",
      "2/2 [==============================] - 0s 7ms/step - loss: 0.1576 - accuracy: 1.0000\n",
      "Epoch 439/500\n",
      "2/2 [==============================] - 0s 6ms/step - loss: 0.1559 - accuracy: 1.0000\n",
      "Epoch 440/500\n",
      "2/2 [==============================] - 0s 14ms/step - loss: 0.1538 - accuracy: 1.0000\n",
      "Epoch 441/500\n",
      "2/2 [==============================] - 0s 10ms/step - loss: 0.1520 - accuracy: 1.0000\n",
      "Epoch 442/500\n",
      "2/2 [==============================] - 0s 8ms/step - loss: 0.1508 - accuracy: 1.0000\n",
      "Epoch 443/500\n",
      "2/2 [==============================] - 0s 11ms/step - loss: 0.1486 - accuracy: 1.0000\n",
      "Epoch 444/500\n",
      "2/2 [==============================] - 0s 7ms/step - loss: 0.1465 - accuracy: 1.0000\n",
      "Epoch 445/500\n",
      "2/2 [==============================] - 0s 11ms/step - loss: 0.1450 - accuracy: 1.0000\n",
      "Epoch 446/500\n",
      "2/2 [==============================] - ETA: 0s - loss: 0.1512 - accuracy: 1.00 - 0s 4ms/step - loss: 0.1435 - accuracy: 1.0000\n",
      "Epoch 447/500\n",
      "2/2 [==============================] - 0s 8ms/step - loss: 0.1427 - accuracy: 1.0000\n",
      "Epoch 448/500\n",
      "2/2 [==============================] - 0s 10ms/step - loss: 0.1412 - accuracy: 1.0000\n",
      "Epoch 449/500\n",
      "2/2 [==============================] - 0s 7ms/step - loss: 0.1399 - accuracy: 1.0000\n",
      "Epoch 450/500\n",
      "2/2 [==============================] - 0s 10ms/step - loss: 0.1386 - accuracy: 1.0000\n",
      "Epoch 451/500\n",
      "2/2 [==============================] - 0s 11ms/step - loss: 0.1370 - accuracy: 1.0000\n",
      "Epoch 452/500\n",
      "2/2 [==============================] - 0s 7ms/step - loss: 0.1355 - accuracy: 1.0000\n",
      "Epoch 453/500\n",
      "2/2 [==============================] - 0s 5ms/step - loss: 0.1340 - accuracy: 1.0000\n",
      "Epoch 454/500\n",
      "2/2 [==============================] - 0s 7ms/step - loss: 0.1323 - accuracy: 1.0000\n",
      "Epoch 455/500\n",
      "2/2 [==============================] - 0s 11ms/step - loss: 0.1308 - accuracy: 1.0000\n",
      "Epoch 456/500\n",
      "2/2 [==============================] - ETA: 0s - loss: 0.1284 - accuracy: 1.00 - 0s 11ms/step - loss: 0.1297 - accuracy: 1.0000\n",
      "Epoch 457/500\n",
      "2/2 [==============================] - 0s 8ms/step - loss: 0.1283 - accuracy: 1.0000\n",
      "Epoch 458/500\n",
      "2/2 [==============================] - 0s 9ms/step - loss: 0.1269 - accuracy: 1.0000\n",
      "Epoch 459/500\n",
      "2/2 [==============================] - 0s 10ms/step - loss: 0.1253 - accuracy: 1.0000\n",
      "Epoch 460/500\n",
      "2/2 [==============================] - 0s 9ms/step - loss: 0.1237 - accuracy: 1.0000\n",
      "Epoch 461/500\n",
      "2/2 [==============================] - 0s 7ms/step - loss: 0.1224 - accuracy: 1.0000\n",
      "Epoch 462/500\n",
      "2/2 [==============================] - 0s 9ms/step - loss: 0.1212 - accuracy: 1.0000\n",
      "Epoch 463/500\n",
      "2/2 [==============================] - 0s 7ms/step - loss: 0.1202 - accuracy: 1.0000\n",
      "Epoch 464/500\n",
      "2/2 [==============================] - 0s 6ms/step - loss: 0.1191 - accuracy: 1.0000\n",
      "Epoch 465/500\n",
      "2/2 [==============================] - 0s 11ms/step - loss: 0.1181 - accuracy: 1.0000\n",
      "Epoch 466/500\n",
      "2/2 [==============================] - 0s 6ms/step - loss: 0.1168 - accuracy: 1.0000\n",
      "Epoch 467/500\n",
      "2/2 [==============================] - 0s 5ms/step - loss: 0.1150 - accuracy: 1.0000\n",
      "Epoch 468/500\n",
      "2/2 [==============================] - 0s 9ms/step - loss: 0.1136 - accuracy: 1.0000\n",
      "Epoch 469/500\n",
      "2/2 [==============================] - 0s 10ms/step - loss: 0.1121 - accuracy: 1.0000\n",
      "Epoch 470/500\n",
      "2/2 [==============================] - 0s 11ms/step - loss: 0.1115 - accuracy: 1.0000\n",
      "Epoch 471/500\n",
      "2/2 [==============================] - 0s 13ms/step - loss: 0.1112 - accuracy: 1.0000\n",
      "Epoch 472/500\n",
      "2/2 [==============================] - 0s 9ms/step - loss: 0.1104 - accuracy: 1.0000\n",
      "Epoch 473/500\n",
      "2/2 [==============================] - 0s 5ms/step - loss: 0.1094 - accuracy: 1.0000\n",
      "Epoch 474/500\n",
      "2/2 [==============================] - 0s 7ms/step - loss: 0.1082 - accuracy: 1.0000\n",
      "Epoch 475/500\n",
      "2/2 [==============================] - 0s 11ms/step - loss: 0.1074 - accuracy: 1.0000\n",
      "Epoch 476/500\n",
      "2/2 [==============================] - 0s 16ms/step - loss: 0.1062 - accuracy: 1.0000\n",
      "Epoch 477/500\n",
      "2/2 [==============================] - 0s 9ms/step - loss: 0.1049 - accuracy: 1.0000\n",
      "Epoch 478/500\n",
      "2/2 [==============================] - 0s 12ms/step - loss: 0.1037 - accuracy: 1.0000\n",
      "Epoch 479/500\n",
      "2/2 [==============================] - 0s 11ms/step - loss: 0.1024 - accuracy: 1.0000\n",
      "Epoch 480/500\n",
      "2/2 [==============================] - 0s 7ms/step - loss: 0.1012 - accuracy: 1.0000\n",
      "Epoch 481/500\n",
      "2/2 [==============================] - 0s 5ms/step - loss: 0.1003 - accuracy: 1.0000\n",
      "Epoch 482/500\n",
      "2/2 [==============================] - 0s 8ms/step - loss: 0.0996 - accuracy: 1.0000\n",
      "Epoch 483/500\n",
      "2/2 [==============================] - 0s 8ms/step - loss: 0.0983 - accuracy: 1.0000\n",
      "Epoch 484/500\n",
      "2/2 [==============================] - 0s 12ms/step - loss: 0.0972 - accuracy: 1.0000\n",
      "Epoch 485/500\n",
      "2/2 [==============================] - 0s 6ms/step - loss: 0.0963 - accuracy: 1.0000\n",
      "Epoch 486/500\n",
      "2/2 [==============================] - 0s 14ms/step - loss: 0.0954 - accuracy: 1.0000\n",
      "Epoch 487/500\n",
      "2/2 [==============================] - 0s 7ms/step - loss: 0.0943 - accuracy: 1.0000\n",
      "Epoch 488/500\n",
      "2/2 [==============================] - 0s 6ms/step - loss: 0.0933 - accuracy: 1.0000\n",
      "Epoch 489/500\n",
      "2/2 [==============================] - 0s 9ms/step - loss: 0.0922 - accuracy: 1.0000\n",
      "Epoch 490/500\n",
      "2/2 [==============================] - 0s 8ms/step - loss: 0.0911 - accuracy: 1.0000\n",
      "Epoch 491/500\n",
      "2/2 [==============================] - 0s 11ms/step - loss: 0.0901 - accuracy: 1.0000\n",
      "Epoch 492/500\n"
     ]
    },
    {
     "name": "stdout",
     "output_type": "stream",
     "text": [
      "2/2 [==============================] - 0s 8ms/step - loss: 0.0894 - accuracy: 1.0000\n",
      "Epoch 493/500\n",
      "2/2 [==============================] - 0s 10ms/step - loss: 0.0892 - accuracy: 1.0000\n",
      "Epoch 494/500\n",
      "2/2 [==============================] - 0s 11ms/step - loss: 0.0886 - accuracy: 1.0000\n",
      "Epoch 495/500\n",
      "2/2 [==============================] - 0s 12ms/step - loss: 0.0877 - accuracy: 1.0000\n",
      "Epoch 496/500\n",
      "2/2 [==============================] - 0s 14ms/step - loss: 0.0865 - accuracy: 1.0000\n",
      "Epoch 497/500\n",
      "2/2 [==============================] - 0s 6ms/step - loss: 0.0855 - accuracy: 1.0000\n",
      "Epoch 498/500\n",
      "2/2 [==============================] - 0s 9ms/step - loss: 0.0847 - accuracy: 1.0000\n",
      "Epoch 499/500\n",
      "2/2 [==============================] - 0s 6ms/step - loss: 0.0843 - accuracy: 1.0000\n",
      "Epoch 500/500\n",
      "2/2 [==============================] - 0s 8ms/step - loss: 0.0839 - accuracy: 1.0000\n"
     ]
    }
   ],
   "source": [
    "epochs = 500\n",
    "history = model.fit(padded_sequences, np.array(training_labels), epochs=epochs)"
   ]
  },
  {
   "cell_type": "markdown",
   "metadata": {},
   "source": [
    "# After training, it is better to save all the required files in order to use it at the inference time. So that we save the trained model, fitted tokenizer object and fitted label encoder object."
   ]
  },
  {
   "cell_type": "code",
   "execution_count": 7,
   "metadata": {},
   "outputs": [
    {
     "name": "stdout",
     "output_type": "stream",
     "text": [
      "INFO:tensorflow:Assets written to: chat_model\\assets\n"
     ]
    }
   ],
   "source": [
    "# to save the trained model\n",
    "model.save(\"chat_model\")\n",
    "\n",
    "import pickle\n",
    "\n",
    "# to save the fitted tokenizer\n",
    "with open('tokenizer.pickle', 'wb') as handle:\n",
    "    pickle.dump(tokenizer, handle, protocol=pickle.HIGHEST_PROTOCOL)\n",
    "    \n",
    "# to save the fitted label encoder\n",
    "with open('label_encoder.pickle', 'wb') as ecn_file:\n",
    "    pickle.dump(lbl_encoder, ecn_file, protocol=pickle.HIGHEST_PROTOCOL)"
   ]
  },
  {
   "cell_type": "markdown",
   "metadata": {},
   "source": [
    "# Inference\n",
    "Okay!!!! now it’s time to check how our model performs. 😊\n",
    "We are going to implement a chat function to engage with a real user. When a new user message is received, the chatbot will calculate the similarity between the new text sequence and training data. Considering the confidence scores got for each category, it categorizes the user message to an intent with the highest confidence score."
   ]
  },
  {
   "cell_type": "code",
   "execution_count": 8,
   "metadata": {},
   "outputs": [
    {
     "name": "stdout",
     "output_type": "stream",
     "text": [
      "Start messaging with the bot (type quit to stop)!\n",
      "User: hey\n",
      "ChatBot: Good to see you again\n",
      "User: hi\n",
      "ChatBot: Hello, how can I help?\n",
      "User: hey\n",
      "ChatBot: Good to see you again\n",
      "User: \n",
      "ChatBot: Have a nice day\n",
      "User: i want to cancel my order\n",
      "ChatBot: I can cancel your order, If your order is in kitchen, there will be a cancellation fee.  Do you want me to proceed?\n",
      "User: yes proceed\n",
      "ChatBot: Happy to help!\n",
      "User: qiut\n",
      "ChatBot: Any time!\n",
      "User: quit\n"
     ]
    }
   ],
   "source": [
    "import json \n",
    "import numpy as np\n",
    "from tensorflow import keras\n",
    "from sklearn.preprocessing import LabelEncoder\n",
    "\n",
    "import colorama \n",
    "colorama.init()\n",
    "from colorama import Fore, Style, Back\n",
    "\n",
    "import random\n",
    "import pickle\n",
    "\n",
    "with open(\"chatbot_conversation\") as file:\n",
    "    data = json.load(file)\n",
    "\n",
    "\n",
    "def chat():\n",
    "    # load trained model\n",
    "    model = keras.models.load_model('chat_model')\n",
    "\n",
    "    # load tokenizer object\n",
    "    with open('tokenizer.pickle', 'rb') as handle:\n",
    "        tokenizer = pickle.load(handle)\n",
    "        \n",
    "\n",
    "    # load label encoder object\n",
    "    with open('label_encoder.pickle', 'rb') as enc:\n",
    "        lbl_encoder = pickle.load(enc)\n",
    "\n",
    "    # parameters\n",
    "    max_len = 20\n",
    "    \n",
    "    while True:\n",
    "        print(Fore.LIGHTBLUE_EX + \"User: \" + Style.RESET_ALL, end=\"\")\n",
    "        inp = input()\n",
    "        if inp.lower() == \"quit\":\n",
    "            break\n",
    "\n",
    "        result = model.predict(keras.preprocessing.sequence.pad_sequences(tokenizer.texts_to_sequences([inp]),\n",
    "                                             truncating='post', maxlen=max_len))\n",
    "        tag = lbl_encoder.inverse_transform([np.argmax(result)])\n",
    "\n",
    "        for i in data['intents']:\n",
    "            if i['tag'] == tag:\n",
    "                print(Fore.GREEN + \"ChatBot:\" + Style.RESET_ALL , np.random.choice(i['responses']))\n",
    "\n",
    "        # print(Fore.GREEN + \"ChatBot:\" + Style.RESET_ALL,random.choice(responses))\n",
    "\n",
    "print(Fore.YELLOW + \"Start messaging with the bot (type quit to stop)!\" + Style.RESET_ALL)\n",
    "chat()"
   ]
  },
  {
   "cell_type": "markdown",
   "metadata": {},
   "source": [
    "# SEQUENTIAL MODEL \n",
    "\n"
   ]
  },
  {
   "cell_type": "markdown",
   "metadata": {},
   "source": [
    "# Setup"
   ]
  },
  {
   "cell_type": "code",
   "execution_count": 9,
   "metadata": {},
   "outputs": [],
   "source": [
    "\n",
    "import tensorflow as tf\n",
    "from tensorflow import keras\n",
    "from tensorflow.keras import layers"
   ]
  },
  {
   "cell_type": "markdown",
   "metadata": {},
   "source": [
    "# When to use a Sequential model\n",
    "A Sequential model is appropriate for a plain stack of layers where each layer has exactly one input tensor and one output tensor.\n",
    "\n",
    "Schematically, the following Sequential model:"
   ]
  },
  {
   "cell_type": "code",
   "execution_count": null,
   "metadata": {},
   "outputs": [],
   "source": [
    "# Define Sequential model with 3 layers\n",
    "model = keras.Sequential(\n",
    "    [\n",
    "        layers.Dense(2, activation=\"relu\", name=\"layer1\"),\n",
    "        layers.Dense(3, activation=\"relu\", name=\"layer2\"),\n",
    "        layers.Dense(4, name=\"layer3\"),\n",
    "    ]\n",
    ")\n",
    "# Call model on a test input\n",
    "x = tf.ones((3, 3))\n",
    "y = model(x)"
   ]
  },
  {
   "cell_type": "markdown",
   "metadata": {},
   "source": [
    "# OR"
   ]
  },
  {
   "cell_type": "code",
   "execution_count": null,
   "metadata": {},
   "outputs": [],
   "source": [
    "# Create 3 layers\n",
    "layer1 = layers.Dense(2, activation=\"relu\", name=\"layer1\")\n",
    "layer2 = layers.Dense(3, activation=\"relu\", name=\"layer2\")\n",
    "layer3 = layers.Dense(4, name=\"layer3\")\n",
    "\n",
    "# Call layers on a test input\n",
    "x = tf.ones((3, 3))\n",
    "y = layer3(layer2(layer1(x)))"
   ]
  },
  {
   "cell_type": "markdown",
   "metadata": {},
   "source": [
    "# OR"
   ]
  },
  {
   "cell_type": "code",
   "execution_count": null,
   "metadata": {},
   "outputs": [],
   "source": [
    "model = keras.Sequential(\n",
    "    [\n",
    "        layers.Dense(2, activation=\"relu\"),\n",
    "        layers.Dense(3, activation=\"relu\"),\n",
    "        layers.Dense(4),\n",
    "    ]\n",
    ")\n",
    "\n",
    "\n",
    "#Its layers are accessible via the layers attribute:\n",
    "\n",
    "model.layers\n"
   ]
  },
  {
   "cell_type": "markdown",
   "metadata": {},
   "source": [
    "# OR"
   ]
  },
  {
   "cell_type": "code",
   "execution_count": null,
   "metadata": {},
   "outputs": [],
   "source": [
    "#You can also create a Sequential model incrementally via the add() method:\n",
    "\n",
    "model = keras.Sequential()\n",
    "model.add(layers.Dense(2, activation=\"relu\"))\n",
    "model.add(layers.Dense(3, activation=\"relu\"))\n",
    "model.add(layers.Dense(4))"
   ]
  },
  {
   "cell_type": "markdown",
   "metadata": {},
   "source": [
    "# Note that there's also a corresponding pop() method to remove layers: a Sequential model behaves very much like a list of layers."
   ]
  },
  {
   "cell_type": "code",
   "execution_count": null,
   "metadata": {},
   "outputs": [],
   "source": [
    "model.pop()\n",
    "print(len(model.layers))  # 2"
   ]
  },
  {
   "cell_type": "markdown",
   "metadata": {},
   "source": [
    "# Also note that the Sequential constructor accepts a \"name\" argument, just like any layer or model in Keras. This is useful to annotate TensorBoard graphs with semantically meaningful names."
   ]
  },
  {
   "cell_type": "code",
   "execution_count": 10,
   "metadata": {},
   "outputs": [],
   "source": [
    "model = keras.Sequential(name=\"my_sequential\")\n",
    "model.add(layers.Dense(2, activation=\"relu\", name=\"layer1\"))\n",
    "model.add(layers.Dense(3, activation=\"relu\", name=\"layer2\"))\n",
    "model.add(layers.Dense(3, activation=\"relu\", name=\"layer3\"))\n",
    "model.add(layers.Dense(4, name=\"layer4\"))"
   ]
  },
  {
   "cell_type": "markdown",
   "metadata": {},
   "source": [
    "# Specifying the input shape in advance\n",
    "Generally, all layers in Keras need to know the shape of their inputs in order to be able to create their weights. So when you create a layer like this, initially, it has no weights:"
   ]
  },
  {
   "cell_type": "code",
   "execution_count": 11,
   "metadata": {},
   "outputs": [
    {
     "data": {
      "text/plain": [
       "[]"
      ]
     },
     "execution_count": 11,
     "metadata": {},
     "output_type": "execute_result"
    }
   ],
   "source": [
    "layer = layers.Dense(3)\n",
    "layer.weights  # Empty"
   ]
  },
  {
   "cell_type": "raw",
   "metadata": {},
   "source": [
    "It creates its weights the first time it is called on an input, since the shape of the weights depends on the shape of the inputs:"
   ]
  },
  {
   "cell_type": "code",
   "execution_count": 12,
   "metadata": {},
   "outputs": [
    {
     "data": {
      "text/plain": [
       "[<tf.Variable 'dense_3/kernel:0' shape=(4, 3) dtype=float32, numpy=\n",
       " array([[-0.25171918, -0.90997285, -0.36665714],\n",
       "        [ 0.5426476 , -0.05035067,  0.44591343],\n",
       "        [ 0.8707069 , -0.43419185, -0.10648543],\n",
       "        [-0.15334189, -0.20665836, -0.37978762]], dtype=float32)>,\n",
       " <tf.Variable 'dense_3/bias:0' shape=(3,) dtype=float32, numpy=array([0., 0., 0.], dtype=float32)>]"
      ]
     },
     "execution_count": 12,
     "metadata": {},
     "output_type": "execute_result"
    }
   ],
   "source": [
    "# Call layer on a test input\n",
    "x = tf.ones((1, 4))\n",
    "y = layer(x)\n",
    "layer.weights  # Now it has weights, of shape (4, 3) and (3,)"
   ]
  },
  {
   "cell_type": "code",
   "execution_count": 22,
   "metadata": {},
   "outputs": [
    {
     "name": "stdout",
     "output_type": "stream",
     "text": [
      "Number of weights after calling the model: 8\n"
     ]
    }
   ],
   "source": [
    "model = keras.Sequential(\n",
    "    [\n",
    "        layers.Dense(2, activation=\"relu\"),\n",
    "        layers.Dense(3, activation=\"relu\"),\n",
    "        layers.Dense(4, activation=\"relu\"),\n",
    "        layers.Dense(5),\n",
    "    ]\n",
    ")  # No weights at this stage!\n",
    "\n",
    "# At this point, you can't do this:\n",
    "# model.weights\n",
    "\n",
    "# You also can't do this:\n",
    "# model.summary()\n",
    "\n",
    "# Call the model on a test input\n",
    "x = tf.ones((1, 2))\n",
    "y = model(x)\n",
    "print(\"Number of weights after calling the model:\", len(model.weights))  # 6"
   ]
  },
  {
   "cell_type": "markdown",
   "metadata": {},
   "source": [
    "# Once a model is \"built\", you can call its summary() method to display its conteNTS:"
   ]
  },
  {
   "cell_type": "code",
   "execution_count": 23,
   "metadata": {},
   "outputs": [
    {
     "name": "stdout",
     "output_type": "stream",
     "text": [
      "Model: \"sequential_4\"\n",
      "_________________________________________________________________\n",
      " Layer (type)                Output Shape              Param #   \n",
      "=================================================================\n",
      " dense_15 (Dense)            (1, 2)                    6         \n",
      "                                                                 \n",
      " dense_16 (Dense)            (1, 3)                    9         \n",
      "                                                                 \n",
      " dense_17 (Dense)            (1, 4)                    16        \n",
      "                                                                 \n",
      " dense_18 (Dense)            (1, 5)                    25        \n",
      "                                                                 \n",
      "=================================================================\n",
      "Total params: 56\n",
      "Trainable params: 56\n",
      "Non-trainable params: 0\n",
      "_________________________________________________________________\n"
     ]
    }
   ],
   "source": [
    "model.summary()"
   ]
  },
  {
   "cell_type": "raw",
   "metadata": {},
   "source": [
    "# However, it can be very useful when building a Sequential model incrementally to be able to display the summary of the model so far, including the current output shape. In this case, you should start your model by passing an \"Input\" object to your model, so that it knows its input shape from the start:"
   ]
  },
  {
   "cell_type": "code",
   "execution_count": 24,
   "metadata": {},
   "outputs": [
    {
     "name": "stdout",
     "output_type": "stream",
     "text": [
      "Model: \"sequential_5\"\n",
      "_________________________________________________________________\n",
      " Layer (type)                Output Shape              Param #   \n",
      "=================================================================\n",
      " dense_19 (Dense)            (None, 2)                 10        \n",
      "                                                                 \n",
      "=================================================================\n",
      "Total params: 10\n",
      "Trainable params: 10\n",
      "Non-trainable params: 0\n",
      "_________________________________________________________________\n"
     ]
    }
   ],
   "source": [
    "model = keras.Sequential()\n",
    "model.add(keras.Input(shape=(4,)))\n",
    "model.add(layers.Dense(2, activation=\"relu\"))\n",
    "\n",
    "model.summary()"
   ]
  },
  {
   "cell_type": "raw",
   "metadata": {},
   "source": [
    "Note that the Input object is not displayed as part of model.layers, since it isn't a layer:"
   ]
  },
  {
   "cell_type": "code",
   "execution_count": 25,
   "metadata": {},
   "outputs": [
    {
     "data": {
      "text/plain": [
       "[<keras.layers.core.dense.Dense at 0x1e6e182bbe0>]"
      ]
     },
     "execution_count": 25,
     "metadata": {},
     "output_type": "execute_result"
    }
   ],
   "source": [
    "model.layers"
   ]
  },
  {
   "cell_type": "raw",
   "metadata": {},
   "source": [
    "A simple alternative is to just pass an \"input_shape\" argument to your first layer:"
   ]
  },
  {
   "cell_type": "code",
   "execution_count": 26,
   "metadata": {},
   "outputs": [
    {
     "name": "stdout",
     "output_type": "stream",
     "text": [
      "Model: \"sequential_6\"\n",
      "_________________________________________________________________\n",
      " Layer (type)                Output Shape              Param #   \n",
      "=================================================================\n",
      " dense_20 (Dense)            (None, 2)                 10        \n",
      "                                                                 \n",
      "=================================================================\n",
      "Total params: 10\n",
      "Trainable params: 10\n",
      "Non-trainable params: 0\n",
      "_________________________________________________________________\n"
     ]
    }
   ],
   "source": [
    "model = keras.Sequential()\n",
    "model.add(layers.Dense(2, activation=\"relu\", input_shape=(4,)))\n",
    "\n",
    "model.summary()"
   ]
  },
  {
   "cell_type": "raw",
   "metadata": {},
   "source": [
    "Models built with a predefined input shape like this always have weights (even before seeing any data) and always have a defined output shape.\n",
    "\n",
    "In general, it's a recommended best practice to always specify the input shape of a Sequential model in advance if you know what it is."
   ]
  },
  {
   "cell_type": "markdown",
   "metadata": {},
   "source": [
    "# A common debugging workflow: add() + summary()\n",
    "When building a new Sequential architecture, it's useful to incrementally stack layers with add() and frequently print model summaries. For instance, this enables you to monitor how a stack of Conv2D and MaxPooling2D layers is downsampling image feature maps:"
   ]
  },
  {
   "cell_type": "code",
   "execution_count": 27,
   "metadata": {},
   "outputs": [
    {
     "name": "stdout",
     "output_type": "stream",
     "text": [
      "Model: \"sequential_7\"\n",
      "_________________________________________________________________\n",
      " Layer (type)                Output Shape              Param #   \n",
      "=================================================================\n",
      " conv2d (Conv2D)             (None, 123, 123, 32)      2432      \n",
      "                                                                 \n",
      " conv2d_1 (Conv2D)           (None, 121, 121, 32)      9248      \n",
      "                                                                 \n",
      " max_pooling2d (MaxPooling2D  (None, 40, 40, 32)       0         \n",
      " )                                                               \n",
      "                                                                 \n",
      "=================================================================\n",
      "Total params: 11,680\n",
      "Trainable params: 11,680\n",
      "Non-trainable params: 0\n",
      "_________________________________________________________________\n",
      "Model: \"sequential_7\"\n",
      "_________________________________________________________________\n",
      " Layer (type)                Output Shape              Param #   \n",
      "=================================================================\n",
      " conv2d (Conv2D)             (None, 123, 123, 32)      2432      \n",
      "                                                                 \n",
      " conv2d_1 (Conv2D)           (None, 121, 121, 32)      9248      \n",
      "                                                                 \n",
      " max_pooling2d (MaxPooling2D  (None, 40, 40, 32)       0         \n",
      " )                                                               \n",
      "                                                                 \n",
      " conv2d_2 (Conv2D)           (None, 38, 38, 32)        9248      \n",
      "                                                                 \n",
      " conv2d_3 (Conv2D)           (None, 36, 36, 32)        9248      \n",
      "                                                                 \n",
      " max_pooling2d_1 (MaxPooling  (None, 12, 12, 32)       0         \n",
      " 2D)                                                             \n",
      "                                                                 \n",
      " conv2d_4 (Conv2D)           (None, 10, 10, 32)        9248      \n",
      "                                                                 \n",
      " conv2d_5 (Conv2D)           (None, 8, 8, 32)          9248      \n",
      "                                                                 \n",
      " max_pooling2d_2 (MaxPooling  (None, 4, 4, 32)         0         \n",
      " 2D)                                                             \n",
      "                                                                 \n",
      "=================================================================\n",
      "Total params: 48,672\n",
      "Trainable params: 48,672\n",
      "Non-trainable params: 0\n",
      "_________________________________________________________________\n"
     ]
    }
   ],
   "source": [
    "model = keras.Sequential()\n",
    "model.add(keras.Input(shape=(250, 250, 3)))  # 250x250 RGB images\n",
    "model.add(layers.Conv2D(32, 5, strides=2, activation=\"relu\"))\n",
    "model.add(layers.Conv2D(32, 3, activation=\"relu\"))\n",
    "model.add(layers.MaxPooling2D(3))\n",
    "\n",
    "# Can you guess what the current output shape is at this point? Probably not.\n",
    "# Let's just print it:\n",
    "model.summary()\n",
    "\n",
    "# The answer was: (40, 40, 32), so we can keep downsampling...\n",
    "\n",
    "model.add(layers.Conv2D(32, 3, activation=\"relu\"))\n",
    "model.add(layers.Conv2D(32, 3, activation=\"relu\"))\n",
    "model.add(layers.MaxPooling2D(3))\n",
    "model.add(layers.Conv2D(32, 3, activation=\"relu\"))\n",
    "model.add(layers.Conv2D(32, 3, activation=\"relu\"))\n",
    "model.add(layers.MaxPooling2D(2))\n",
    "\n",
    "# And now?\n",
    "model.summary()\n",
    "\n",
    "# Now that we have 4x4 feature maps, time to apply global max pooling.\n",
    "model.add(layers.GlobalMaxPooling2D())\n",
    "\n",
    "# Finally, we add a classification layer.\n",
    "model.add(layers.Dense(10))"
   ]
  },
  {
   "cell_type": "markdown",
   "metadata": {},
   "source": [
    "# What to do once you have a model\n",
    "Once your model architecture is ready, you will want to:\n",
    "\n",
    "---Train your model, evaluate it, and run inference. See our guide to training & evaluation with the built-in loops\n",
    "---Save your model to disk and restore it. See our guide to serialization & saving.\n",
    "---Speed up model training by leveraging multiple GPUs. See our guide to multi-GPU and distributed training."
   ]
  },
  {
   "cell_type": "markdown",
   "metadata": {},
   "source": [
    "# Feature extraction with a Sequential model\n",
    "Once a Sequential model has been built, it behaves like a Functional API model. This means that every layer has an input and output attribute. These attributes can be used to do neat things, like quickly creating a model that extracts the outputs of all intermediate layers in a Sequential model:"
   ]
  },
  {
   "cell_type": "code",
   "execution_count": 28,
   "metadata": {},
   "outputs": [],
   "source": [
    "initial_model = keras.Sequential(\n",
    "    [\n",
    "        keras.Input(shape=(250, 250, 3)),\n",
    "        layers.Conv2D(32, 5, strides=2, activation=\"relu\"),\n",
    "        layers.Conv2D(32, 3, activation=\"relu\"),\n",
    "        layers.Conv2D(32, 3, activation=\"relu\"),\n",
    "    ]\n",
    ")\n",
    "feature_extractor = keras.Model(\n",
    "    inputs=initial_model.inputs,\n",
    "    outputs=[layer.output for layer in initial_model.layers],\n",
    ")\n",
    "\n",
    "# Call feature extractor on test input.\n",
    "x = tf.ones((1, 250, 250, 3))\n",
    "features = feature_extractor(x)"
   ]
  },
  {
   "cell_type": "markdown",
   "metadata": {},
   "source": [
    "# Here's a similar example that only extract features from one layer:"
   ]
  },
  {
   "cell_type": "code",
   "execution_count": 29,
   "metadata": {},
   "outputs": [],
   "source": [
    "initial_model = keras.Sequential(\n",
    "    [\n",
    "        keras.Input(shape=(250, 250, 3)),\n",
    "        layers.Conv2D(32, 5, strides=2, activation=\"relu\"),\n",
    "        layers.Conv2D(32, 3, activation=\"relu\", name=\"my_intermediate_layer\"),\n",
    "        layers.Conv2D(32, 3, activation=\"relu\"),\n",
    "    ]\n",
    ")\n",
    "feature_extractor = keras.Model(\n",
    "    inputs=initial_model.inputs,\n",
    "    outputs=initial_model.get_layer(name=\"my_intermediate_layer\").output,\n",
    ")\n",
    "# Call feature extractor on test input.\n",
    "x = tf.ones((1, 250, 250, 3))\n",
    "features = feature_extractor(x)"
   ]
  },
  {
   "cell_type": "markdown",
   "metadata": {},
   "source": [
    "# Transfer learning with a Sequential model\n",
    "Transfer learning consists of freezing the bottom layers in a model and only training the top layers. If you aren't familiar with it, make sure to read our guide to transfer learning.\n",
    "\n",
    "Here are two common transfer learning blueprint involving Sequential models.\n",
    "\n",
    "First, let's say that you have a Sequential model, and you want to freeze all layers except the last one. In this case, you would simply iterate over model.layers and set layer.trainable = False on each layer, except the last one. Like this:"
   ]
  },
  {
   "cell_type": "code",
   "execution_count": 33,
   "metadata": {},
   "outputs": [
    {
     "ename": "AttributeError",
     "evalue": "'ellipsis' object has no attribute 'endswith'",
     "output_type": "error",
     "traceback": [
      "\u001b[1;31m---------------------------------------------------------------------------\u001b[0m",
      "\u001b[1;31mAttributeError\u001b[0m                            Traceback (most recent call last)",
      "\u001b[1;32m<ipython-input-33-80ae713e64a5>\u001b[0m in \u001b[0;36m<module>\u001b[1;34m\u001b[0m\n\u001b[0;32m      8\u001b[0m \u001b[1;33m\u001b[0m\u001b[0m\n\u001b[0;32m      9\u001b[0m \u001b[1;31m# Presumably you would want to first load pre-trained weights.\u001b[0m\u001b[1;33m\u001b[0m\u001b[1;33m\u001b[0m\u001b[1;33m\u001b[0m\u001b[0m\n\u001b[1;32m---> 10\u001b[1;33m \u001b[0mmodel\u001b[0m\u001b[1;33m.\u001b[0m\u001b[0mload_weights\u001b[0m\u001b[1;33m(\u001b[0m\u001b[1;33m...\u001b[0m\u001b[1;33m)\u001b[0m\u001b[1;33m\u001b[0m\u001b[1;33m\u001b[0m\u001b[0m\n\u001b[0m\u001b[0;32m     11\u001b[0m \u001b[1;33m\u001b[0m\u001b[0m\n\u001b[0;32m     12\u001b[0m \u001b[1;31m# Freeze all layers except the last one.\u001b[0m\u001b[1;33m\u001b[0m\u001b[1;33m\u001b[0m\u001b[1;33m\u001b[0m\u001b[0m\n",
      "\u001b[1;32m~\\anaconda3\\lib\\site-packages\\keras\\utils\\traceback_utils.py\u001b[0m in \u001b[0;36merror_handler\u001b[1;34m(*args, **kwargs)\u001b[0m\n\u001b[0;32m     65\u001b[0m     \u001b[1;32mexcept\u001b[0m \u001b[0mException\u001b[0m \u001b[1;32mas\u001b[0m \u001b[0me\u001b[0m\u001b[1;33m:\u001b[0m  \u001b[1;31m# pylint: disable=broad-except\u001b[0m\u001b[1;33m\u001b[0m\u001b[1;33m\u001b[0m\u001b[0m\n\u001b[0;32m     66\u001b[0m       \u001b[0mfiltered_tb\u001b[0m \u001b[1;33m=\u001b[0m \u001b[0m_process_traceback_frames\u001b[0m\u001b[1;33m(\u001b[0m\u001b[0me\u001b[0m\u001b[1;33m.\u001b[0m\u001b[0m__traceback__\u001b[0m\u001b[1;33m)\u001b[0m\u001b[1;33m\u001b[0m\u001b[1;33m\u001b[0m\u001b[0m\n\u001b[1;32m---> 67\u001b[1;33m       \u001b[1;32mraise\u001b[0m \u001b[0me\u001b[0m\u001b[1;33m.\u001b[0m\u001b[0mwith_traceback\u001b[0m\u001b[1;33m(\u001b[0m\u001b[0mfiltered_tb\u001b[0m\u001b[1;33m)\u001b[0m \u001b[1;32mfrom\u001b[0m \u001b[1;32mNone\u001b[0m\u001b[1;33m\u001b[0m\u001b[1;33m\u001b[0m\u001b[0m\n\u001b[0m\u001b[0;32m     68\u001b[0m     \u001b[1;32mfinally\u001b[0m\u001b[1;33m:\u001b[0m\u001b[1;33m\u001b[0m\u001b[1;33m\u001b[0m\u001b[0m\n\u001b[0;32m     69\u001b[0m       \u001b[1;32mdel\u001b[0m \u001b[0mfiltered_tb\u001b[0m\u001b[1;33m\u001b[0m\u001b[1;33m\u001b[0m\u001b[0m\n",
      "\u001b[1;32m~\\anaconda3\\lib\\site-packages\\keras\\saving\\saving_utils.py\u001b[0m in \u001b[0;36mis_hdf5_filepath\u001b[1;34m(filepath)\u001b[0m\n\u001b[0;32m    320\u001b[0m \u001b[1;33m\u001b[0m\u001b[0m\n\u001b[0;32m    321\u001b[0m \u001b[1;32mdef\u001b[0m \u001b[0mis_hdf5_filepath\u001b[0m\u001b[1;33m(\u001b[0m\u001b[0mfilepath\u001b[0m\u001b[1;33m)\u001b[0m\u001b[1;33m:\u001b[0m\u001b[1;33m\u001b[0m\u001b[1;33m\u001b[0m\u001b[0m\n\u001b[1;32m--> 322\u001b[1;33m   return (filepath.endswith('.h5') or filepath.endswith('.keras') or\n\u001b[0m\u001b[0;32m    323\u001b[0m           filepath.endswith('.hdf5'))\n",
      "\u001b[1;31mAttributeError\u001b[0m: 'ellipsis' object has no attribute 'endswith'"
     ]
    }
   ],
   "source": [
    "model = keras.Sequential([\n",
    "    keras.Input(shape=(784)),\n",
    "    layers.Dense(32, activation='relu'),\n",
    "    layers.Dense(32, activation='relu'),\n",
    "    layers.Dense(32, activation='relu'),\n",
    "    layers.Dense(10),\n",
    "])\n",
    "\n",
    "# Presumably you would want to first load pre-trained weights.\n",
    "model.load_weights(...)\n",
    "\n",
    "# Freeze all layers except the last one.\n",
    "for layer in model.layers[:-1]:\n",
    "  layer.trainable = False\n",
    "\n",
    "# Recompile and train (this will only update the weights of the last layer).\n",
    "model.compile(...)\n",
    "model.fit(...)"
   ]
  },
  {
   "cell_type": "markdown",
   "metadata": {},
   "source": [
    "# Another common blueprint is to use a Sequential model to stack a pre-trained model and some freshly initialized classification layers. Like this:"
   ]
  },
  {
   "cell_type": "code",
   "execution_count": null,
   "metadata": {},
   "outputs": [],
   "source": [
    "# Load a convolutional base with pre-trained weights\n",
    "base_model = keras.applications.Xception(\n",
    "    weights='imagenet',\n",
    "    include_top=False,\n",
    "    pooling='avg')\n",
    "\n",
    "# Freeze the base model\n",
    "base_model.trainable = False\n",
    "\n",
    "# Use a Sequential model to add a trainable classifier on top\n",
    "model = keras.Sequential([\n",
    "    base_model,\n",
    "    layers.Dense(1000),\n",
    "])\n",
    "\n",
    "# Compile & train\n",
    "model.compile(...)\n",
    "model.fit(...)"
   ]
  },
  {
   "cell_type": "code",
   "execution_count": null,
   "metadata": {},
   "outputs": [],
   "source": []
  },
  {
   "cell_type": "code",
   "execution_count": 33,
   "metadata": {
    "scrolled": true
   },
   "outputs": [
    {
     "name": "stdout",
     "output_type": "stream",
     "text": [
      "Enter the number of data : 5\n",
      "Enter data 0 : 524356\n",
      "Enter data 1 : 5652\n",
      "Enter data 2 : 3224\n",
      "Enter data 3 : ertyuiop\n",
      "Enter data 4 : ttttttttttttt\n"
     ]
    }
   ],
   "source": [
    "import pickle\n",
    "\n",
    "# take user input to take the amount of data\n",
    "number_of_data = int(input('Enter the number of data : '))\n",
    "data = []\n",
    "\n",
    "# take input of the data\n",
    "for i in range(number_of_data):\n",
    "    raw = input('Enter data '+str(i)+' : ')\n",
    "    data.append(raw)\n",
    "\n",
    "# open a file, where you want to store the data\n",
    "file = open('important', 'wb')\n",
    "\n",
    "# dump information to that file\n",
    "pickle.dump(data, file)\n",
    "\n",
    "# close the file\n",
    "file.close()"
   ]
  },
  {
   "cell_type": "code",
   "execution_count": 34,
   "metadata": {},
   "outputs": [
    {
     "data": {
      "text/plain": [
       "['524356', '5652', '3224', 'ertyuiop', 'ttttttttttttt']"
      ]
     },
     "execution_count": 34,
     "metadata": {},
     "output_type": "execute_result"
    }
   ],
   "source": [
    "data"
   ]
  },
  {
   "cell_type": "code",
   "execution_count": 30,
   "metadata": {
    "scrolled": true
   },
   "outputs": [
    {
     "data": {
      "text/plain": [
       "<_io.BufferedReader name='important'>"
      ]
     },
     "execution_count": 30,
     "metadata": {},
     "output_type": "execute_result"
    }
   ],
   "source": [
    "file"
   ]
  },
  {
   "cell_type": "code",
   "execution_count": 32,
   "metadata": {},
   "outputs": [
    {
     "data": {
      "text/plain": [
       "<function _pickle.dump(obj, file, protocol=None, *, fix_imports=True, buffer_callback=None)>"
      ]
     },
     "execution_count": 32,
     "metadata": {},
     "output_type": "execute_result"
    }
   ],
   "source": [
    "pickle.dump"
   ]
  },
  {
   "cell_type": "code",
   "execution_count": 35,
   "metadata": {},
   "outputs": [
    {
     "name": "stdout",
     "output_type": "stream",
     "text": [
      "Showing the pickled data:\n",
      "The data  0  is :  524356\n",
      "The data  1  is :  5652\n",
      "The data  2  is :  3224\n",
      "The data  3  is :  ertyuiop\n",
      "The data  4  is :  ttttttttttttt\n"
     ]
    }
   ],
   "source": [
    "\n",
    "import pickle\n",
    "\n",
    "# open a file, where you stored the pickled data\n",
    "file = open('important', 'rb')\n",
    "\n",
    "# dump information to that file\n",
    "data = pickle.load(file)\n",
    "\n",
    "# close the file\n",
    "file.close()\n",
    "\n",
    "print('Showing the pickled data:')\n",
    "\n",
    "cnt = 0\n",
    "for item in data:\n",
    "    print('The data ', cnt, ' is : ', item)\n",
    "    cnt += 1"
   ]
  },
  {
   "cell_type": "code",
   "execution_count": 36,
   "metadata": {},
   "outputs": [],
   "source": [
    "file = open('important', 'rb')"
   ]
  },
  {
   "cell_type": "code",
   "execution_count": 39,
   "metadata": {},
   "outputs": [
    {
     "data": {
      "text/plain": [
       "['524356', '5652', '3224', 'ertyuiop', 'ttttttttttttt']"
      ]
     },
     "execution_count": 39,
     "metadata": {},
     "output_type": "execute_result"
    }
   ],
   "source": [
    "data"
   ]
  },
  {
   "cell_type": "code",
   "execution_count": 40,
   "metadata": {},
   "outputs": [
    {
     "name": "stdout",
     "output_type": "stream",
     "text": [
      "2\n"
     ]
    }
   ],
   "source": [
    "\n",
    "# import random\n",
    "import random\n",
    "  \n",
    "# prints a random value from the list\n",
    "list1 = [1, 2, 3, 4, 5, 6]\n",
    "print(random.choice(list1))"
   ]
  },
  {
   "cell_type": "code",
   "execution_count": 44,
   "metadata": {},
   "outputs": [
    {
     "name": "stdout",
     "output_type": "stream",
     "text": [
      "0.6229016948897019\n",
      "0.7417869892607294\n",
      "0.7951935655656966\n"
     ]
    }
   ],
   "source": [
    "import random\n",
    "  \n",
    "random.seed(5)\n",
    "  \n",
    "print(random.random())\n",
    "print(random.random())\n",
    "print(random.random())"
   ]
  },
  {
   "cell_type": "code",
   "execution_count": 45,
   "metadata": {},
   "outputs": [
    {
     "name": "stdout",
     "output_type": "stream",
     "text": [
      "Random number between 5 and 15 is 15\n",
      "Random number between -10 and -2 is -2\n"
     ]
    }
   ],
   "source": [
    "\n",
    "# Python3 program explaining work\n",
    "# of randint() function\n",
    "  \n",
    "# import random module\n",
    "import random\n",
    "  \n",
    "# Generates a random number between\n",
    "# a given positive range\n",
    "r1 = random.randint(5, 15)\n",
    "print(\"Random number between 5 and 15 is % s\" % (r1))\n",
    "  \n",
    "# Generates a random number between\n",
    "# two given negative range\n",
    "r2 = random.randint(-10, -2)\n",
    "print(\"Random number between -10 and -2 is % d\" % (r2))"
   ]
  },
  {
   "cell_type": "code",
   "execution_count": 46,
   "metadata": {},
   "outputs": [
    {
     "name": "stdout",
     "output_type": "stream",
     "text": [
      "0.029005228283614737\n"
     ]
    }
   ],
   "source": [
    "\n",
    "# Python3 program to demonstrate\n",
    "# the use of random() function .\n",
    "      \n",
    "# import random\n",
    "from random import random\n",
    "      \n",
    "# Prints random item\n",
    "print(random())"
   ]
  },
  {
   "cell_type": "code",
   "execution_count": 51,
   "metadata": {},
   "outputs": [
    {
     "ename": "AttributeError",
     "evalue": "'list' object has no attribute 'max'",
     "output_type": "error",
     "traceback": [
      "\u001b[1;31m---------------------------------------------------------------------------\u001b[0m",
      "\u001b[1;31mAttributeError\u001b[0m                            Traceback (most recent call last)",
      "\u001b[1;32m<ipython-input-51-9fe97e2d18de>\u001b[0m in \u001b[0;36m<module>\u001b[1;34m\u001b[0m\n\u001b[0;32m      3\u001b[0m \u001b[0mb\u001b[0m\u001b[1;33m=\u001b[0m \u001b[1;33m[\u001b[0m\u001b[1;36m0\u001b[0m\u001b[1;33m,\u001b[0m \u001b[1;36m5\u001b[0m\u001b[1;33m,\u001b[0m \u001b[1;36m2\u001b[0m\u001b[1;33m,\u001b[0m \u001b[1;36m5\u001b[0m\u001b[1;33m,\u001b[0m \u001b[1;36m4\u001b[0m\u001b[1;33m,\u001b[0m \u001b[1;36m5\u001b[0m\u001b[1;33m]\u001b[0m\u001b[1;33m\u001b[0m\u001b[1;33m\u001b[0m\u001b[0m\n\u001b[0;32m      4\u001b[0m \u001b[1;33m\u001b[0m\u001b[0m\n\u001b[1;32m----> 5\u001b[1;33m \u001b[0mc\u001b[0m\u001b[1;33m=\u001b[0m\u001b[1;33m[\u001b[0m\u001b[0mnp\u001b[0m\u001b[1;33m.\u001b[0m\u001b[0mrandom\u001b[0m\u001b[1;33m.\u001b[0m\u001b[0mchoice\u001b[0m\u001b[1;33m(\u001b[0m\u001b[0mnp\u001b[0m\u001b[1;33m.\u001b[0m\u001b[0mflatnonzero\u001b[0m\u001b[1;33m(\u001b[0m\u001b[0mb\u001b[0m \u001b[1;33m==\u001b[0m \u001b[0mb\u001b[0m\u001b[1;33m.\u001b[0m\u001b[0mmax\u001b[0m\u001b[1;33m(\u001b[0m\u001b[1;33m)\u001b[0m\u001b[1;33m)\u001b[0m\u001b[1;33m)\u001b[0m \u001b[1;32mfor\u001b[0m \u001b[0mi\u001b[0m \u001b[1;32min\u001b[0m \u001b[0mrange\u001b[0m\u001b[1;33m(\u001b[0m\u001b[1;36m1000\u001b[0m\u001b[1;33m)\u001b[0m\u001b[1;33m]\u001b[0m\u001b[1;33m\u001b[0m\u001b[1;33m\u001b[0m\u001b[0m\n\u001b[0m\u001b[0;32m      6\u001b[0m \u001b[1;33m\u001b[0m\u001b[0m\n\u001b[0;32m      7\u001b[0m \u001b[0mnp\u001b[0m\u001b[1;33m.\u001b[0m\u001b[0mbincount\u001b[0m\u001b[1;33m(\u001b[0m\u001b[0mc\u001b[0m\u001b[1;33m)\u001b[0m\u001b[1;33m\u001b[0m\u001b[1;33m\u001b[0m\u001b[0m\n",
      "\u001b[1;32m<ipython-input-51-9fe97e2d18de>\u001b[0m in \u001b[0;36m<listcomp>\u001b[1;34m(.0)\u001b[0m\n\u001b[0;32m      3\u001b[0m \u001b[0mb\u001b[0m\u001b[1;33m=\u001b[0m \u001b[1;33m[\u001b[0m\u001b[1;36m0\u001b[0m\u001b[1;33m,\u001b[0m \u001b[1;36m5\u001b[0m\u001b[1;33m,\u001b[0m \u001b[1;36m2\u001b[0m\u001b[1;33m,\u001b[0m \u001b[1;36m5\u001b[0m\u001b[1;33m,\u001b[0m \u001b[1;36m4\u001b[0m\u001b[1;33m,\u001b[0m \u001b[1;36m5\u001b[0m\u001b[1;33m]\u001b[0m\u001b[1;33m\u001b[0m\u001b[1;33m\u001b[0m\u001b[0m\n\u001b[0;32m      4\u001b[0m \u001b[1;33m\u001b[0m\u001b[0m\n\u001b[1;32m----> 5\u001b[1;33m \u001b[0mc\u001b[0m\u001b[1;33m=\u001b[0m\u001b[1;33m[\u001b[0m\u001b[0mnp\u001b[0m\u001b[1;33m.\u001b[0m\u001b[0mrandom\u001b[0m\u001b[1;33m.\u001b[0m\u001b[0mchoice\u001b[0m\u001b[1;33m(\u001b[0m\u001b[0mnp\u001b[0m\u001b[1;33m.\u001b[0m\u001b[0mflatnonzero\u001b[0m\u001b[1;33m(\u001b[0m\u001b[0mb\u001b[0m \u001b[1;33m==\u001b[0m \u001b[0mb\u001b[0m\u001b[1;33m.\u001b[0m\u001b[0mmax\u001b[0m\u001b[1;33m(\u001b[0m\u001b[1;33m)\u001b[0m\u001b[1;33m)\u001b[0m\u001b[1;33m)\u001b[0m \u001b[1;32mfor\u001b[0m \u001b[0mi\u001b[0m \u001b[1;32min\u001b[0m \u001b[0mrange\u001b[0m\u001b[1;33m(\u001b[0m\u001b[1;36m1000\u001b[0m\u001b[1;33m)\u001b[0m\u001b[1;33m]\u001b[0m\u001b[1;33m\u001b[0m\u001b[1;33m\u001b[0m\u001b[0m\n\u001b[0m\u001b[0;32m      6\u001b[0m \u001b[1;33m\u001b[0m\u001b[0m\n\u001b[0;32m      7\u001b[0m \u001b[0mnp\u001b[0m\u001b[1;33m.\u001b[0m\u001b[0mbincount\u001b[0m\u001b[1;33m(\u001b[0m\u001b[0mc\u001b[0m\u001b[1;33m)\u001b[0m\u001b[1;33m\u001b[0m\u001b[1;33m\u001b[0m\u001b[0m\n",
      "\u001b[1;31mAttributeError\u001b[0m: 'list' object has no attribute 'max'"
     ]
    }
   ],
   "source": [
    " import numpy as np\n",
    "\n",
    "b= [0, 5, 2, 5, 4, 5]\n",
    "\n",
    "c=[np.random.choice(np.flatnonzero(b == b.max())) for i in range(1000)]\n",
    "\n",
    "np.bincount(c)\n"
   ]
  },
  {
   "cell_type": "code",
   "execution_count": 52,
   "metadata": {},
   "outputs": [],
   "source": [
    "b = np.arange(6)\n",
    "b[1] = 5\n"
   ]
  },
  {
   "cell_type": "code",
   "execution_count": 53,
   "metadata": {},
   "outputs": [
    {
     "data": {
      "text/plain": [
       "array([0, 5, 2, 3, 4, 5])"
      ]
     },
     "execution_count": 53,
     "metadata": {},
     "output_type": "execute_result"
    }
   ],
   "source": [
    "b"
   ]
  },
  {
   "cell_type": "code",
   "execution_count": 55,
   "metadata": {},
   "outputs": [
    {
     "data": {
      "text/plain": [
       "1"
      ]
     },
     "execution_count": 55,
     "metadata": {},
     "output_type": "execute_result"
    }
   ],
   "source": [
    "\n",
    "np.argmax(b) # Only the first occurrence is returned."
   ]
  },
  {
   "cell_type": "code",
   "execution_count": 56,
   "metadata": {},
   "outputs": [
    {
     "data": {
      "text/plain": [
       "array([0, 5, 2, 3, 4, 5])"
      ]
     },
     "execution_count": 56,
     "metadata": {},
     "output_type": "execute_result"
    }
   ],
   "source": [
    "b"
   ]
  },
  {
   "cell_type": "code",
   "execution_count": null,
   "metadata": {},
   "outputs": [],
   "source": []
  }
 ],
 "metadata": {
  "kernelspec": {
   "display_name": "Python 3",
   "language": "python",
   "name": "python3"
  },
  "language_info": {
   "codemirror_mode": {
    "name": "ipython",
    "version": 3
   },
   "file_extension": ".py",
   "mimetype": "text/x-python",
   "name": "python",
   "nbconvert_exporter": "python",
   "pygments_lexer": "ipython3",
   "version": "3.8.5"
  }
 },
 "nbformat": 4,
 "nbformat_minor": 4
}
